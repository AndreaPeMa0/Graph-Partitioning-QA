{
 "cells": [
  {
   "cell_type": "code",
   "execution_count": 1,
   "id": "8477a41a",
   "metadata": {},
   "outputs": [],
   "source": [
    "import numpy as np\n",
    "import matplotlib.pyplot as plt\n",
    "import networkx as nx\n",
    "from itertools import combinations\n",
    "from random import random\n",
    "import os"
   ]
  },
  {
   "cell_type": "code",
   "execution_count": 2,
   "id": "7d503b06",
   "metadata": {},
   "outputs": [],
   "source": [
    "def RandomGraphGenerator(n, p):\n",
    "    '''\n",
    "    Generates a random graph of n vertices using Erdös–Rényi model\n",
    "    \n",
    "    Input\n",
    "    -----\n",
    "    n  : int\n",
    "         number of vertices\n",
    "    p  : float\n",
    "         probability that an edge exists between a given pair of vertices\n",
    "\n",
    "    Output\n",
    "    ------\n",
    "    graph  :  networkx graph\n",
    "              random graph created\n",
    "    '''\n",
    "    \n",
    "    #Vertex set and edge set\n",
    "    V = set([v for v in range(n)])\n",
    "    E = set()\n",
    "    \n",
    "    #Possible edges\n",
    "    for combination in combinations(V, 2):\n",
    "        \n",
    "        a = random()  #a in [0, 1)\n",
    "        if a < p:\n",
    "            E.add(combination)\n",
    "            \n",
    "    graph = nx.Graph()\n",
    "    graph.add_nodes_from(V)\n",
    "    graph.add_edges_from(E)\n",
    "    \n",
    "    return graph"
   ]
  },
  {
   "cell_type": "code",
   "execution_count": 52,
   "id": "85dee2d3",
   "metadata": {},
   "outputs": [],
   "source": [
    "n = 8\n",
    "p = 0.3\n",
    "G = RandomGraphGenerator(n, p)"
   ]
  },
  {
   "cell_type": "code",
   "execution_count": 53,
   "id": "f2e695a7",
   "metadata": {},
   "outputs": [],
   "source": [
    "def DrawNetwork(network, figName):\n",
    "    '''\n",
    "    Plots a networkx graph and saves it as a png file\n",
    "    \n",
    "    Input\n",
    "    -----\n",
    "    network   : networkx graph\n",
    "                graph to be plotted\n",
    "    figName   : string\n",
    "                name of the png file\n",
    "    '''\n",
    "    \n",
    "    pos = nx.spring_layout(network)\n",
    "    nx.draw_networkx(network, pos)\n",
    "    plt.savefig(figName)\n",
    "    plt.show()"
   ]
  },
  {
   "cell_type": "code",
   "execution_count": 54,
   "id": "a4291832",
   "metadata": {},
   "outputs": [
    {
     "data": {
      "image/png": "[encoded data removed]",
      "text/plain": [
       "<Figure size 640x480 with 1 Axes>"
      ]
     },
     "metadata": {},
     "output_type": "display_data"
    }
   ],
   "source": [
    "DrawNetwork(G, \"graph.png\")"
   ]
  },
  {
   "cell_type": "code",
   "execution_count": 55,
   "id": "48a78442",
   "metadata": {},
   "outputs": [],
   "source": [
    "def NetworkToFile(network, fileName):\n",
    "    '''\n",
    "    Saves the networkx graph in a file\n",
    "    \n",
    "    Input\n",
    "    -----\n",
    "    network   : networkx graph\n",
    "                graph to be saved in the file\n",
    "    fileName  : string\n",
    "                name of the file\n",
    "    '''\n",
    "    #Preparing data for the text file\n",
    "    n = 0\n",
    "    m = 0\n",
    "    vertex = []\n",
    "    \n",
    "    n = len(network.nodes)\n",
    "    m = len(network.edges)\n",
    "    \n",
    "    for i in range(n):\n",
    "        vertex.append([])\n",
    "    \n",
    "    for e in network.edges:\n",
    "        vertex[e[0]].append(e[1]+1)\n",
    "        vertex[e[1]].append(e[0]+1)\n",
    "    \n",
    "    #Writing in the file\n",
    "    with open(fileName, \"w\") as file:\n",
    "        file.write(\"%%%%%% graph file %%%%%%\")\n",
    "        file.write(\"\\n\")\n",
    "        file.write(str(n) + \" \" + str(m))\n",
    "        file.write(\"\\n\")\n",
    "        \n",
    "        for i in range(len(vertex)):\n",
    "            for j in range(len(vertex[i])):\n",
    "                file.write(str(vertex[i][j]) + \" \")\n",
    "            file.write(\"\\n\")"
   ]
  },
  {
   "cell_type": "code",
   "execution_count": 56,
   "id": "28bcf4a2",
   "metadata": {},
   "outputs": [],
   "source": [
    "NetworkToFile(G, \"graph.txt\")"
   ]
  },
  {
   "cell_type": "code",
   "execution_count": 57,
   "id": "0aa6b2f3",
   "metadata": {},
   "outputs": [],
   "source": [
    "def FileToNetwork(fileName):\n",
    "    '''\n",
    "    Saves the information of a file as a networkx graph\n",
    "    \n",
    "    Input\n",
    "    -----\n",
    "    fileName  : string\n",
    "                name of the file\n",
    "    \n",
    "    Output\n",
    "    ------\n",
    "    network   : networkx graph\n",
    "                graph created\n",
    "    '''\n",
    "    \n",
    "    network = nx.Graph()\n",
    "    vertex = []\n",
    "    \n",
    "    #Reading file\n",
    "    with open(fileName) as file:\n",
    "        \n",
    "        next(file) #discard line\n",
    "        n, m = [int(x) for x in next(file).split()]\n",
    "        \n",
    "        for i in range(n):\n",
    "            vertex.append([])\n",
    "            \n",
    "        i = 0   \n",
    "        for line in file:\n",
    "            e = line.split()\n",
    "            for j in range(len(e)):\n",
    "                vertex[i].append(int(e[j])-1)\n",
    "            i += 1\n",
    "        \n",
    "        #Edge list\n",
    "        edge = []\n",
    "        aux = []\n",
    "        for i in range(len(vertex)):\n",
    "            for j in range(len(vertex[i])):\n",
    "                if (i) < vertex[i][j]:\n",
    "                    aux.append([i, vertex[i][j]])\n",
    "                else:\n",
    "                    aux.append([vertex[i][j], i])\n",
    "        for item in aux:\n",
    "            if item not in edge:\n",
    "                edge.append(item)\n",
    "        \n",
    "        #Adding edges to the networkx graph\n",
    "        for item in edge:\n",
    "            network.add_edge(item[0], item[1])\n",
    "            \n",
    "    return network"
   ]
  },
  {
   "cell_type": "code",
   "execution_count": 58,
   "id": "5c6cd5bd",
   "metadata": {},
   "outputs": [],
   "source": [
    "h = FileToNetwork(\"graph.txt\")"
   ]
  },
  {
   "cell_type": "code",
   "execution_count": 59,
   "id": "b750db18",
   "metadata": {},
   "outputs": [
    {
     "data": {
      "image/png": "[encoded data removed]",
      "text/plain": [
       "<Figure size 640x480 with 1 Axes>"
      ]
     },
     "metadata": {},
     "output_type": "display_data"
    }
   ],
   "source": [
    "DrawNetwork(h, \"graph1.png\")"
   ]
  },
  {
   "cell_type": "code",
   "execution_count": 60,
   "id": "f713c790",
   "metadata": {},
   "outputs": [],
   "source": [
    "def GraphPartitioning(fileName, k):\n",
    "    '''\n",
    "    Partitions a graph into k parts using METIS\n",
    "    \n",
    "    Input\n",
    "    -----\n",
    "    fileName  : string\n",
    "                name of the file with the graph\n",
    "    k         : int\n",
    "                parts to be madee\n",
    "    '''\n",
    "    os.system(\"gpmetis \" + fileName + \" \" + str(k))"
   ]
  },
  {
   "cell_type": "code",
   "execution_count": 61,
   "id": "caeca62c",
   "metadata": {},
   "outputs": [
    {
     "name": "stdout",
     "output_type": "stream",
     "text": [
      "******************************************************************************\n",
      "METIS 5.0 Copyright 1998-13, Regents of the University of Minnesota\n",
      " (HEAD: , Built on: Nov  5 2021, 13:09:47)\n",
      " size of idx_t: 32bits, real_t: 64bits, idx_t *: 64bits\n",
      "\n",
      "Graph Information -----------------------------------------------------------\n",
      " Name: graph.txt, #Vertices: 8, #Edges: 8, #Parts: 2\n",
      "\n",
      "Options ---------------------------------------------------------------------\n",
      " ptype=kway, objtype=cut, ctype=shem, rtype=greedy, iptype=metisrb\n",
      " dbglvl=0, ufactor=1.030, no2hop=NO, minconn=NO, contig=NO, nooutput=NO\n",
      " seed=-1, niter=10, ncuts=1\n",
      "\n",
      "Direct k-way Partitioning ---------------------------------------------------\n",
      " - Edgecut: 1, communication volume: 2.\n",
      "\n",
      " - Balance:\n",
      "     constraint #0:  1.000 out of 0.250\n",
      "\n",
      " - Most overweight partition:\n",
      "     pid: 0, actual: 4, desired: 4, ratio: 1.00.\n",
      "\n",
      " - Subdomain connectivity: max: 1, min: 1, avg: 1.00\n",
      "\n",
      " - Each partition is contiguous.\n",
      "\n",
      "Timing Information ----------------------------------------------------------\n",
      "  I/O:          \t\t   0.000 sec\n",
      "  Partitioning: \t\t   0.000 sec   (METIS time)\n",
      "  Reporting:    \t\t   0.000 sec\n",
      "\n",
      "Memory Information ----------------------------------------------------------\n",
      "  Max memory used:\t\t   0.050 MB\n",
      "******************************************************************************\n"
     ]
    }
   ],
   "source": [
    "GraphPartitioning(\"graph.txt\", 2)"
   ]
  },
  {
   "cell_type": "code",
   "execution_count": 62,
   "id": "813ff102",
   "metadata": {},
   "outputs": [],
   "source": [
    "def DrawSolution(network, fileName, figName):\n",
    "    '''\n",
    "    Plots the solution of the partition and saves it as a png file\n",
    "    \n",
    "    Input\n",
    "    -----\n",
    "    network   : networkx graph\n",
    "                graph to be plotted\n",
    "    fileName  : string\n",
    "                name of the file\n",
    "    figName   : string\n",
    "                name of the png file\n",
    "    '''\n",
    "    \n",
    "    color_map_aux = []\n",
    "    \n",
    "    #Reading file\n",
    "    with open(fileName) as file:\n",
    "        \n",
    "        for line in file:\n",
    "            i = line.split()\n",
    "            \n",
    "            if int(i[0]) == 0:\n",
    "                color_map_aux.append(\"blue\")\n",
    "            if int(i[0]) == 1:\n",
    "                color_map_aux.append(\"green\")\n",
    "                \n",
    "    #Making sure colors are in the right order           \n",
    "    color_map = []\n",
    "    for node in network.nodes():\n",
    "        color_map.append(color_map_aux[node])\n",
    "        \n",
    "    #Drawing\n",
    "    pos = nx.spring_layout(network)\n",
    "    nx.draw_networkx(network, pos, node_color=color_map)\n",
    "    plt.savefig(figName)\n",
    "    plt.show()"
   ]
  },
  {
   "cell_type": "code",
   "execution_count": 63,
   "id": "06102207",
   "metadata": {},
   "outputs": [
    {
     "data": {
      "image/png": "[encoded data removed]",
      "text/plain": [
       "<Figure size 640x480 with 1 Axes>"
      ]
     },
     "metadata": {},
     "output_type": "display_data"
    }
   ],
   "source": [
    "DrawSolution(G, \"graph.txt.part.2\", \"graph.part.plot.png\")"
   ]
  },
  {
   "cell_type": "code",
   "execution_count": null,
   "id": "1c746d1e",
   "metadata": {},
   "outputs": [],
   "source": []
  }
 ],
 "metadata": {
  "kernelspec": {
   "display_name": "Python 3 (ipykernel)",
   "language": "python",
   "name": "python3"
  },
  "language_info": {
   "codemirror_mode": {
    "name": "ipython",
    "version": 3
   },
   "file_extension": ".py",
   "mimetype": "text/x-python",
   "name": "python",
   "nbconvert_exporter": "python",
   "pygments_lexer": "ipython3",
   "version": "3.8.13"
  }
 },
 "nbformat": 4,
 "nbformat_minor": 5
}
