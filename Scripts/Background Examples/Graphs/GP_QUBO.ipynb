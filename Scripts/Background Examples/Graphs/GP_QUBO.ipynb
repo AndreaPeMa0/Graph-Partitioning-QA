{
 "cells": [
  {
   "cell_type": "markdown",
   "id": "4c956766",
   "metadata": {},
   "source": [
    "# Graph Partitioning with a QUBO objective function"
   ]
  },
  {
   "cell_type": "code",
   "execution_count": 128,
   "id": "5b10eede",
   "metadata": {},
   "outputs": [],
   "source": [
    "import numpy as np\n",
    "import matplotlib.pyplot as plt\n",
    "import itertools\n",
    "from graphs import DrawSolution\n",
    "from graphs import FileToNetwork\n",
    "from graphs import DrawNetwork\n",
    "from graphs import GraphPartitioning"
   ]
  },
  {
   "cell_type": "markdown",
   "id": "68dd41d5",
   "metadata": {},
   "source": [
    "We will try to explore the GP problem using the QUBO model, in which the objective function is given by\n",
    "\n",
    "$$ E(\\mathbf{x}) = \\sum_i Q_{ii} x_i + \\sum_{i < j} Q_{ij} x_i x_j $$\n",
    "\n",
    "where $x_i \\in \\{0, +1 \\}$. We will try to minimize  this function or, equivalently, to find\n",
    "\n",
    "$$ \\min_{\\mathbf{x}}{\\mathbf{x}^T Q \\mathbf{x}} $$\n",
    "\n",
    "where $\\mathbf{x} \\in \\{0, +1 \\}^n$."
   ]
  },
  {
   "cell_type": "markdown",
   "id": "5d9153e8",
   "metadata": {},
   "source": [
    "Given a graph $G = (V, E)$ with vertex set $V$ and edge set $E$ such that $n = |V|$ and $m = |E|$, it can be shown that in the GP problem the matrix $Q$ is as follows\n",
    "\n",
    "\n",
    "$$Q_{ij} = \\begin{cases}\n",
    "        \\alpha - \\beta , \\quad &(i, j) \\in E\\\\\n",
    "        \\alpha, \\quad &(i, j) \\notin E, \\, i \\neq j\\\\\n",
    "        \\beta g_i - \\alpha(n-1), \\quad &i = j\n",
    "    \\end{cases}$$\n",
    "\n",
    "where $g_i$ is de degree of the vertex $i$ and \n",
    "\n",
    "$$\\frac{\\alpha}{\\beta} \\geq \\frac{\\min(2 \\Delta, n)}{8}$$\n",
    "\n",
    "where $\\Delta$ is the maximal degree of the graph. We will study this problem for different values of $\\alpha$ and $\\beta$."
   ]
  },
  {
   "cell_type": "code",
   "execution_count": 2,
   "id": "a76ecc6c",
   "metadata": {},
   "outputs": [],
   "source": [
    "def QMatrix(fileName, alpha, beta):\n",
    "    '''\n",
    "    This function returns the Q matrix for a given graph\n",
    "    \n",
    "    Input\n",
    "    -----\n",
    "    fileName  : string\n",
    "                name of the file containing the graph\n",
    "    alpha     : double\n",
    "                weight for the balancing constraint\n",
    "    beta      : double\n",
    "                weight for the minimum edge cut size\n",
    "    \n",
    "    Output\n",
    "    ------\n",
    "    Q  : array\n",
    "         Q matrix for the QUBO optimization problem\n",
    "    '''\n",
    "    \n",
    "    vertex = []\n",
    "    gi = []\n",
    "    \n",
    "    #Getting the information of the graph\n",
    "    with open(fileName) as file:\n",
    "        \n",
    "        next(file) #discard line\n",
    "        n, m = [int(x) for x in next(file).split()]\n",
    "        \n",
    "        for i in range(n):\n",
    "            vertex.append([])\n",
    "            gi.append([])\n",
    "        \n",
    "        #Degrees\n",
    "        i = 0   \n",
    "        for line in file:\n",
    "            e = line.split()\n",
    "            gi[i] = len(e)\n",
    "            for j in range(len(e)):\n",
    "                vertex[i].append(int(e[j]))\n",
    "            i += 1\n",
    "            \n",
    "\n",
    "        #Building the Q matrix\n",
    "        Q = np.full((n,n), alpha)\n",
    "        \n",
    "        for i in range(n):\n",
    "            Q[i][i] = beta*gi[i] - alpha*(n-1)\n",
    "        for i in range(len(vertex)):\n",
    "            for j in range(len(vertex[i])):\n",
    "                Q[i][vertex[i][j]-1] = alpha - beta\n",
    "    return Q "
   ]
  },
  {
   "cell_type": "code",
   "execution_count": 198,
   "id": "2a3304f9",
   "metadata": {},
   "outputs": [],
   "source": [
    "def QUBOSolution(Q):\n",
    "    '''\n",
    "    Finds the solutions of the minimization problem\n",
    "    \n",
    "    Input\n",
    "    -----\n",
    "    Q  : array\n",
    "         Q matrix for the QUBO optimization problem\n",
    "    \n",
    "    Output\n",
    "    ------\n",
    "    num_sols  : double\n",
    "                number of solutions         \n",
    "    xmin      : array\n",
    "                solutions to the GP problem\n",
    "    '''\n",
    "    \n",
    "        \n",
    "    #Preparing all possible vectors\n",
    "    x = itertools.product([0,1], repeat = len(Q))\n",
    "    list_x = list(x)\n",
    "    \n",
    "    #Verifying the number of combinations\n",
    "    if (len(list_x)) != 2**len(Q):\n",
    "        print(\"Not all vectors found \\n\")\n",
    "        return None\n",
    "    \n",
    "    #Finding the solution\n",
    "    sol = np.zeros(len(list_x))\n",
    "    aux = 0\n",
    "    for i in range(len(list_x)):\n",
    "        aux = np.matmul(list_x[i], Q)\n",
    "        sol[i] = np.matmul(aux, list_x[i])\n",
    "        \n",
    "    \n",
    "    E = np.amin(sol)    \n",
    "    index = np.where(sol == E)\n",
    "    num_sols = len(index[0])\n",
    "    \n",
    "    xmin = []\n",
    "    for i in range(len(index[0])):\n",
    "        j = index[0][i]\n",
    "        xmin.append(list_x[j])\n",
    "                \n",
    "    return num_sols, xmin"
   ]
  },
  {
   "cell_type": "code",
   "execution_count": 197,
   "id": "bbfac50d",
   "metadata": {},
   "outputs": [],
   "source": [
    "def CheckIfEqual(fileName, xmin):\n",
    "    '''\n",
    "    Checks if any solution is equal to the solution found by METIS\n",
    "    \n",
    "    Input\n",
    "    -----\n",
    "    fileName  : string\n",
    "                name of the file with the METIS solution\n",
    "    xmin      : array\n",
    "                QUBO solutions\n",
    "    '''\n",
    "    \n",
    "    metis = []\n",
    "    #Reading METIS solution\n",
    "    with open(fileName) as file:\n",
    "        for line in file:\n",
    "            i = line.split()\n",
    "            metis.append(int(i[0]))\n",
    "    metis = np.array(metis)\n",
    "    \n",
    "    #Comparing\n",
    "    for i in range(len(xmin)):\n",
    "        sol = np.array(xmin[i])\n",
    "        \n",
    "        if (metis == sol).all():\n",
    "            return True\n",
    "        \n",
    "    #Not found\n",
    "    return False"
   ]
  },
  {
   "cell_type": "markdown",
   "id": "fea8a592",
   "metadata": {},
   "source": [
    "## First example"
   ]
  },
  {
   "cell_type": "markdown",
   "id": "bcc91f4a",
   "metadata": {},
   "source": [
    "We will try to first to solve the problem using the following graph\n",
    "<img src=\"example1.png\" width=\"500\" height=\"340\">\n",
    "\n",
    "Now $\\frac{\\alpha}{\\beta} \\geq 0.75$. However, we will fix $\\beta = 1$ and we will choose $\\alpha \\in [0, 1.5]$ to study how this parameters afect the result."
   ]
  },
  {
   "cell_type": "code",
   "execution_count": 192,
   "id": "756c9dab",
   "metadata": {},
   "outputs": [],
   "source": [
    "beta = 1\n",
    "alpha_values = np.linspace(0, 1.5, 15)"
   ]
  },
  {
   "cell_type": "code",
   "execution_count": 191,
   "id": "715368a1",
   "metadata": {},
   "outputs": [
    {
     "name": "stdout",
     "output_type": "stream",
     "text": [
      "******************************************************************************\n",
      "METIS 5.0 Copyright 1998-13, Regents of the University of Minnesota\n",
      " (HEAD: , Built on: Nov  5 2021, 13:09:47)\n",
      " size of idx_t: 32bits, real_t: 64bits, idx_t *: 64bits\n",
      "\n",
      "Graph Information -----------------------------------------------------------\n",
      " Name: example1.txt, #Vertices: 6, #Edges: 5, #Parts: 2\n",
      "\n",
      "Options ---------------------------------------------------------------------\n",
      " ptype=kway, objtype=cut, ctype=shem, rtype=greedy, iptype=metisrb\n",
      " dbglvl=0, ufactor=1.030, no2hop=NO, minconn=NO, contig=NO, nooutput=NO\n",
      " seed=-1, niter=10, ncuts=1\n",
      "\n",
      "Direct k-way Partitioning ---------------------------------------------------\n",
      " - Edgecut: 1, communication volume: 2.\n",
      "\n",
      " - Balance:\n",
      "     constraint #0:  1.000 out of 0.333\n",
      "\n",
      " - Most overweight partition:\n",
      "     pid: 0, actual: 3, desired: 3, ratio: 1.00.\n",
      "\n",
      " - Subdomain connectivity: max: 1, min: 1, avg: 1.00\n",
      "\n",
      " - Each partition is contiguous.\n",
      "\n",
      "Timing Information ----------------------------------------------------------\n",
      "  I/O:          \t\t   0.001 sec\n",
      "  Partitioning: \t\t   0.000 sec   (METIS time)\n",
      "  Reporting:    \t\t   0.000 sec\n",
      "\n",
      "Memory Information ----------------------------------------------------------\n",
      "  Max memory used:\t\t   0.050 MB\n",
      "******************************************************************************\n"
     ]
    }
   ],
   "source": [
    "#METIS solution\n",
    "GraphPartitioning(\"example1.txt\", 2)"
   ]
  },
  {
   "cell_type": "code",
   "execution_count": 226,
   "id": "4e3f04ea",
   "metadata": {},
   "outputs": [
    {
     "name": "stdout",
     "output_type": "stream",
     "text": [
      "alpha     num solutions      equal           solutions\n",
      "0.00            2            False            [(0, 0, 0, 0, 0, 0), (1, 1, 1, 1, 1, 1)]\n",
      "0.11            1            False            [(1, 1, 1, 1, 1, 1)]\n",
      "0.21            2            True            [(0, 0, 0, 1, 1, 1), (1, 1, 1, 0, 0, 0)]\n",
      "0.32            2            True            [(0, 0, 0, 1, 1, 1), (1, 1, 1, 0, 0, 0)]\n",
      "0.43            2            True            [(0, 0, 0, 1, 1, 1), (1, 1, 1, 0, 0, 0)]\n",
      "0.54            2            True            [(0, 0, 0, 1, 1, 1), (1, 1, 1, 0, 0, 0)]\n",
      "0.64            2            True            [(0, 0, 0, 1, 1, 1), (1, 1, 1, 0, 0, 0)]\n",
      "0.75            2            True            [(0, 0, 0, 1, 1, 1), (1, 1, 1, 0, 0, 0)]\n",
      "0.86            2            True            [(0, 0, 0, 1, 1, 1), (1, 1, 1, 0, 0, 0)]\n",
      "0.96            2            True            [(0, 0, 0, 1, 1, 1), (1, 1, 1, 0, 0, 0)]\n",
      "1.07            2            True            [(0, 0, 0, 1, 1, 1), (1, 1, 1, 0, 0, 0)]\n",
      "1.18            2            True            [(0, 0, 0, 1, 1, 1), (1, 1, 1, 0, 0, 0)]\n",
      "1.29            2            True            [(0, 0, 0, 1, 1, 1), (1, 1, 1, 0, 0, 0)]\n",
      "1.39            2            True            [(0, 0, 0, 1, 1, 1), (1, 1, 1, 0, 0, 0)]\n",
      "1.50            2            True            [(0, 0, 0, 1, 1, 1), (1, 1, 1, 0, 0, 0)]\n"
     ]
    }
   ],
   "source": [
    "print(\"alpha\" + \"     \" + \"num solutions\" + \"      \" + \"equal\" + \"           \" + \"solutions\",)\n",
    "for alpha in alpha_values:\n",
    "    Q =QMatrix(\"example1.txt\", alpha, beta)\n",
    "    num_sols, xmin = QUBOSolution(Q)\n",
    "    solution = CheckIfEqual(\"example1.txt.part.2\", xmin)\n",
    "    print(\"{0:.2f}\".format(alpha), num_sols, solution, xmin, sep = \"            \")"
   ]
  },
  {
   "cell_type": "markdown",
   "id": "ca59bc25",
   "metadata": {},
   "source": [
    "## Second example"
   ]
  },
  {
   "cell_type": "code",
   "execution_count": null,
   "id": "8f174bf0",
   "metadata": {},
   "outputs": [],
   "source": []
  }
 ],
 "metadata": {
  "kernelspec": {
   "display_name": "Python 3 (ipykernel)",
   "language": "python",
   "name": "python3"
  },
  "language_info": {
   "codemirror_mode": {
    "name": "ipython",
    "version": 3
   },
   "file_extension": ".py",
   "mimetype": "text/x-python",
   "name": "python",
   "nbconvert_exporter": "python",
   "pygments_lexer": "ipython3",
   "version": "3.8.13"
  }
 },
 "nbformat": 4,
 "nbformat_minor": 5
}
