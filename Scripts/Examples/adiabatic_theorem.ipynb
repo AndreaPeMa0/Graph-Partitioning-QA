{
 "cells": [
  {
   "cell_type": "markdown",
   "id": "903cea16",
   "metadata": {},
   "source": [
    "# Example two spins"
   ]
  },
  {
   "cell_type": "code",
   "execution_count": 3,
   "id": "bce32c6c",
   "metadata": {},
   "outputs": [],
   "source": [
    "import numpy as np\n",
    "from matplotlib import pyplot as plt"
   ]
  },
  {
   "cell_type": "markdown",
   "id": "2c8b8d1b",
   "metadata": {},
   "source": [
    "## Non-commuting"
   ]
  },
  {
   "cell_type": "markdown",
   "id": "44cc5fa6",
   "metadata": {},
   "source": [
    "We want to transition from the ground state of $\\sigma_x$ to the  ground state of $\\sigma_z$. The Hamiltonian of the system is defined as\n",
    "\n",
    "$$H(t) = \\bigg(1 -\\frac{t}{\\tau}\\bigg)\\sigma_x + \\frac{t}{\\tau}\\sigma_z$$\n",
    "\n",
    "for a total transition time $\\tau$"
   ]
  },
  {
   "cell_type": "code",
   "execution_count": 4,
   "id": "6cdd3e81",
   "metadata": {},
   "outputs": [],
   "source": [
    "#Set up Pauli matrices\n",
    "sigma_x = np.array([[0, 1], [1, 0]], dtype=complex)\n",
    "sigma_z = np.array([[1, 0],[0, -1]], dtype = complex)"
   ]
  },
  {
   "cell_type": "code",
   "execution_count": 5,
   "id": "906bd616",
   "metadata": {},
   "outputs": [],
   "source": [
    "#Hamiltonian\n",
    "def Hamiltonian(t, tau):\n",
    "    if t < tau:\n",
    "        return (1-t/tau)*sigma_x + (t/tau)*sigma_z\n",
    "    else:\n",
    "        return sigma_z"
   ]
  },
  {
   "cell_type": "code",
   "execution_count": 6,
   "id": "d11b8f8f",
   "metadata": {},
   "outputs": [
    {
     "name": "stdout",
     "output_type": "stream",
     "text": [
      "[-1.  1.]\n",
      "[[-0.70710678+0.j  0.70710678+0.j]\n",
      " [ 0.70710678+0.j  0.70710678+0.j]]\n",
      "[-0.70710678+0.j  0.70710678+0.j]\n"
     ]
    }
   ],
   "source": [
    "#Initial state\n",
    "H0 = sigma_x\n",
    "vap,vep = np.linalg.eigh(H0)\n",
    "psi0 = vep[:, 0]\n",
    "print(vap)\n",
    "print(vep)\n",
    "print(psi0)"
   ]
  },
  {
   "cell_type": "code",
   "execution_count": 7,
   "id": "3e90023c",
   "metadata": {},
   "outputs": [],
   "source": [
    "#Slow evolution\n",
    "tau = 60\n",
    "iterations = 1000\n",
    "evals = np.zeros([2,iterations])\n",
    "ts = np.linspace(0, tau, iterations)\n",
    "for i, t in enumerate(ts):\n",
    "    H = Hamiltonian(t,tau)\n",
    "    w = np.linalg.eigvalsh(H)\n",
    "    \n",
    "    evals[0][i] = w[0]\n",
    "    evals[1][i] = w[1]"
   ]
  },
  {
   "cell_type": "code",
   "execution_count": 8,
   "id": "0b509f11",
   "metadata": {},
   "outputs": [
    {
     "data": {
      "text/plain": [
       "[<matplotlib.lines.Line2D at 0x7ff0710831f0>]"
      ]
     },
     "execution_count": 8,
     "metadata": {},
     "output_type": "execute_result"
    },
    {
     "data": {
      "image/png": "[encoded data removed]",
      "text/plain": [
       "<Figure size 432x288 with 1 Axes>"
      ]
     },
     "metadata": {
      "needs_background": "light"
     },
     "output_type": "display_data"
    }
   ],
   "source": [
    "plt.plot(ts/tau,evals[0])\n",
    "plt.plot(ts/tau,evals[1])"
   ]
  },
  {
   "cell_type": "code",
   "execution_count": 9,
   "id": "5200fff7",
   "metadata": {},
   "outputs": [],
   "source": [
    "gap1 = (abs(np.amin(evals[1])-np.amax(evals[0])))"
   ]
  },
  {
   "cell_type": "code",
   "execution_count": 10,
   "id": "47e1caf9",
   "metadata": {},
   "outputs": [],
   "source": [
    "#Fast evolution\n",
    "tau = 0.01\n",
    "iterations = 1000\n",
    "evals = np.zeros([2,iterations])\n",
    "ts = np.linspace(0, tau, iterations)\n",
    "for i, t in enumerate(ts):\n",
    "    H = Hamiltonian(t,tau)\n",
    "    w = np.linalg.eigvalsh(H)\n",
    "    \n",
    "    evals[0][i] = w[0]\n",
    "    evals[1][i] = w[1]"
   ]
  },
  {
   "cell_type": "code",
   "execution_count": 11,
   "id": "71727a93",
   "metadata": {},
   "outputs": [
    {
     "data": {
      "text/plain": [
       "[<matplotlib.lines.Line2D at 0x7ff07118ab50>]"
      ]
     },
     "execution_count": 11,
     "metadata": {},
     "output_type": "execute_result"
    },
    {
     "data": {
      "image/png": "[encoded data removed]",
      "text/plain": [
       "<Figure size 432x288 with 1 Axes>"
      ]
     },
     "metadata": {
      "needs_background": "light"
     },
     "output_type": "display_data"
    }
   ],
   "source": [
    "plt.plot(ts/tau,evals[0])\n",
    "plt.plot(ts/tau,evals[1])"
   ]
  },
  {
   "cell_type": "code",
   "execution_count": 12,
   "id": "fffe5d58",
   "metadata": {},
   "outputs": [],
   "source": [
    "gap2 = (abs(np.amin(evals[1])-np.amax(evals[0])))"
   ]
  },
  {
   "cell_type": "code",
   "execution_count": 13,
   "id": "7bdf10e5",
   "metadata": {},
   "outputs": [
    {
     "name": "stdout",
     "output_type": "stream",
     "text": [
      "1.4142142708960366\n",
      "1.4142142708960366\n"
     ]
    }
   ],
   "source": [
    "print(gap1)\n",
    "print(gap2)"
   ]
  },
  {
   "cell_type": "markdown",
   "id": "ca11e0f7",
   "metadata": {},
   "source": [
    "We can see that in this case the energy levels do not cross even if the evolution is fast"
   ]
  },
  {
   "cell_type": "markdown",
   "id": "5d0b4b04",
   "metadata": {},
   "source": [
    "Let's simulate the evolution and study the overlap with the instantaneous ground state for each case. We will use the Crank-Nicolson algorithm\n",
    "\n",
    "$$ | \\psi(t + \\Delta t) \\rangle = \\bigg(1 + \\frac{i \\Delta t}{2 \\hbar} H\\bigg)^{-1} \\bigg(1 - \\frac{i \\Delta t}{2 \\hbar} H \\bigg) | \\psi(t) \\rangle$$"
   ]
  },
  {
   "cell_type": "code",
   "execution_count": 14,
   "id": "c338bc3b",
   "metadata": {},
   "outputs": [],
   "source": [
    "#Crank-Nicolson\n",
    "def CrankNicolson(H, psi, delta_t):\n",
    "    \n",
    "    M = np.identity(2, dtype=complex) - (0. + 1.j)*delta_t/2*H\n",
    "    Minv = np.linalg.inv(np.identity(2, dtype=complex) + (0. + 1.j)*delta_t/2*H)\n",
    "    \n",
    "    psi = np.matmul(M, psi)\n",
    "    psi = np.matmul(Minv, psi)\n",
    "    \n",
    "    return psi"
   ]
  },
  {
   "cell_type": "code",
   "execution_count": 37,
   "id": "054ec380",
   "metadata": {},
   "outputs": [],
   "source": [
    "#Evolution and overlap with instantaneous ground state and first excited state\n",
    "def evolution(tau, ts, delta_t, func):\n",
    "    \n",
    "    overlap0 = []\n",
    "    overlap1 = []\n",
    "\n",
    "    for i, t in enumerate(ts):\n",
    "        \n",
    "        H = func(t,tau)\n",
    "        \n",
    "        if (t == 0):\n",
    "            \n",
    "            vap, vep = np.linalg.eigh(H)\n",
    "            psi0 = vep[:, 0]\n",
    "            psi0 = np.conjugate(psi0)\n",
    "            psi1 = vep[:, 1]\n",
    "            psi1 = np.conjugate(psi1)\n",
    "            \n",
    "            psi = psi0\n",
    "    \n",
    "            prod0 = np.dot(psi,psi0)\n",
    "            mod0 = (np.real(prod0)*np.real(prod0) + np.imag(prod0)*np.imag(prod0))\n",
    "            mod0 = mod0**(1/2)\n",
    "            overlap0.append(mod0)\n",
    "    \n",
    "            prod1 = np.dot(psi,psi1)\n",
    "            mod1 = (np.real(prod1)*np.real(prod1) + np.imag(prod1)*np.imag(prod1))\n",
    "            mod1 = mod1**(1/2)\n",
    "            overlap1.append(mod1)\n",
    "            \n",
    "            \n",
    "        \n",
    "        \n",
    "        else:\n",
    "            \n",
    "            psi = CrankNicolson(H, psi, delta_t)\n",
    "            \n",
    "            vap, vep = np.linalg.eigh(H)\n",
    "            psi0 = vep[:, 0]\n",
    "            psi0 = np.conjugate(psi0)\n",
    "            psi1 = vep[:, 1]\n",
    "            psi1 = np.conjugate(psi1)\n",
    "    \n",
    "    \n",
    "            prod0 = np.dot(psi,psi0)\n",
    "            mod0 = (np.real(prod0)*np.real(prod0) + np.imag(prod0)*np.imag(prod0))\n",
    "            mod0 = mod0**(1/2)\n",
    "            overlap0.append(mod0)\n",
    "    \n",
    "            prod1 = np.dot(psi,psi1)\n",
    "            mod1 = (np.real(prod1)*np.real(prod1) + np.imag(prod1)*np.imag(prod1))\n",
    "            mod1 = mod1**(1/2)\n",
    "            overlap1.append(mod1)\n",
    "        \n",
    "    return np.array(overlap0), np.array(overlap1)"
   ]
  },
  {
   "cell_type": "code",
   "execution_count": 38,
   "id": "8504e5cf",
   "metadata": {},
   "outputs": [],
   "source": [
    "#Slow evolution\n",
    "tau = 60\n",
    "iterations = 1000\n",
    "ts = np.linspace(0, tau, iterations)\n",
    "delta_t = tau/(iterations-1)\n",
    "(overlap0, overlap1) = evolution(tau, ts, delta_t, Hamiltonian)"
   ]
  },
  {
   "cell_type": "code",
   "execution_count": 39,
   "id": "16f47a86",
   "metadata": {},
   "outputs": [
    {
     "data": {
      "text/plain": [
       "[<matplotlib.lines.Line2D at 0x7ff071ee5af0>]"
      ]
     },
     "execution_count": 39,
     "metadata": {},
     "output_type": "execute_result"
    },
    {
     "data": {
      "image/png": "[encoded data removed]",
      "text/plain": [
       "<Figure size 432x288 with 1 Axes>"
      ]
     },
     "metadata": {
      "needs_background": "light"
     },
     "output_type": "display_data"
    }
   ],
   "source": [
    "plt.plot(ts/tau,overlap0)\n",
    "plt.plot(ts/tau,overlap1)"
   ]
  },
  {
   "cell_type": "code",
   "execution_count": 42,
   "id": "496a9670",
   "metadata": {},
   "outputs": [],
   "source": [
    "#Fast evolution\n",
    "tau = 0.01\n",
    "iterations = 1000\n",
    "ts = np.linspace(0, tau, iterations)\n",
    "delta_t = tau/(iterations-1)\n",
    "(overlap0, overlap1) = evolution(tau, ts, delta_t, Hamiltonian)"
   ]
  },
  {
   "cell_type": "code",
   "execution_count": 43,
   "id": "6059d9f6",
   "metadata": {},
   "outputs": [
    {
     "data": {
      "text/plain": [
       "[<matplotlib.lines.Line2D at 0x7ff072175970>]"
      ]
     },
     "execution_count": 43,
     "metadata": {},
     "output_type": "execute_result"
    },
    {
     "data": {
      "image/png": "[encoded data removed]",
      "text/plain": [
       "<Figure size 432x288 with 1 Axes>"
      ]
     },
     "metadata": {
      "needs_background": "light"
     },
     "output_type": "display_data"
    }
   ],
   "source": [
    "plt.plot(ts/tau,overlap0)\n",
    "plt.plot(ts/tau,overlap1)"
   ]
  },
  {
   "cell_type": "markdown",
   "id": "264fa00c",
   "metadata": {},
   "source": [
    "## Commuting"
   ]
  },
  {
   "cell_type": "markdown",
   "id": "230f51be",
   "metadata": {},
   "source": [
    "Let's study the Hamiltonian\n",
    "\n",
    "$$H(t) = \\bigg(1 -\\frac{t}{\\tau}\\bigg)H_I + \\frac{t}{\\tau} H_P$$\n",
    "\n",
    "for a total transition time $\\tau$ with $H_I = Id - \\sigma_z$ and $H_P = Id + \\sigma_z$"
   ]
  },
  {
   "cell_type": "code",
   "execution_count": 46,
   "id": "85422498",
   "metadata": {},
   "outputs": [],
   "source": [
    "#Hamiltonian\n",
    "def Hamiltonian2(t, tau):\n",
    "    if t < tau:\n",
    "        return (1-t/tau)*(np.identity(2)-sigma_z) + (t/tau)*(np.identity(2)+sigma_z)\n",
    "    else:\n",
    "        return np.identity(2)+sigma_z"
   ]
  },
  {
   "cell_type": "code",
   "execution_count": 47,
   "id": "3cfafe7f",
   "metadata": {},
   "outputs": [
    {
     "name": "stdout",
     "output_type": "stream",
     "text": [
      "[0. 2.]\n",
      "[[1.+0.j 0.+0.j]\n",
      " [0.+0.j 1.+0.j]]\n",
      "[1.+0.j 0.+0.j]\n"
     ]
    }
   ],
   "source": [
    "#Initial state\n",
    "H0 = np.identity(2)-sigma_z\n",
    "vap,vep = np.linalg.eigh(H0)\n",
    "psi0 = vep[:, 0]\n",
    "print(vap)\n",
    "print(vep)\n",
    "print(psi0)"
   ]
  },
  {
   "cell_type": "code",
   "execution_count": 48,
   "id": "e5ffc547",
   "metadata": {},
   "outputs": [],
   "source": [
    "#Slow evolution\n",
    "tau = 60\n",
    "iterations = 1000\n",
    "evals = np.zeros([2,iterations])\n",
    "ts = np.linspace(0, tau, iterations)\n",
    "for i, t in enumerate(ts):\n",
    "    H = Hamiltonian2(t,tau)\n",
    "    w = np.linalg.eigvalsh(H)\n",
    "    \n",
    "    evals[0][i] = w[0]\n",
    "    evals[1][i] = w[1]"
   ]
  },
  {
   "cell_type": "code",
   "execution_count": 49,
   "id": "690ea80c",
   "metadata": {},
   "outputs": [
    {
     "data": {
      "text/plain": [
       "[<matplotlib.lines.Line2D at 0x7ff0724a34f0>]"
      ]
     },
     "execution_count": 49,
     "metadata": {},
     "output_type": "execute_result"
    },
    {
     "data": {
      "image/png": "[encoded data removed]",
      "text/plain": [
       "<Figure size 432x288 with 1 Axes>"
      ]
     },
     "metadata": {
      "needs_background": "light"
     },
     "output_type": "display_data"
    }
   ],
   "source": [
    "plt.plot(ts,evals[0])\n",
    "plt.plot(ts,evals[1])"
   ]
  },
  {
   "cell_type": "code",
   "execution_count": 51,
   "id": "b8e419ba",
   "metadata": {},
   "outputs": [],
   "source": [
    "#Fast evolution\n",
    "tau = 0.01\n",
    "iterations = 1000\n",
    "evals = np.zeros([2,iterations])\n",
    "ts = np.linspace(0, tau, iterations)\n",
    "for i, t in enumerate(ts):\n",
    "    H = Hamiltonian2(t,tau)\n",
    "    w = np.linalg.eigvalsh(H)\n",
    "    \n",
    "    evals[0][i] = w[0]\n",
    "    evals[1][i] = w[1]"
   ]
  },
  {
   "cell_type": "code",
   "execution_count": 52,
   "id": "a707b32b",
   "metadata": {},
   "outputs": [
    {
     "data": {
      "text/plain": [
       "[<matplotlib.lines.Line2D at 0x7ff0726386d0>]"
      ]
     },
     "execution_count": 52,
     "metadata": {},
     "output_type": "execute_result"
    },
    {
     "data": {
      "image/png": "[encoded data removed]",
      "text/plain": [
       "<Figure size 432x288 with 1 Axes>"
      ]
     },
     "metadata": {
      "needs_background": "light"
     },
     "output_type": "display_data"
    }
   ],
   "source": [
    "plt.plot(ts,evals[0])\n",
    "plt.plot(ts,evals[1])"
   ]
  },
  {
   "cell_type": "code",
   "execution_count": 54,
   "id": "38dbe986",
   "metadata": {},
   "outputs": [],
   "source": [
    "#Slow evolution\n",
    "tau = 60\n",
    "iterations = 1000\n",
    "ts = np.linspace(0, tau, iterations)\n",
    "delta_t = tau/(iterations-1)\n",
    "(overlap0, overlap1) = evolution(tau, ts, delta_t, Hamiltonian2)"
   ]
  },
  {
   "cell_type": "code",
   "execution_count": 55,
   "id": "412fcf47",
   "metadata": {},
   "outputs": [
    {
     "data": {
      "text/plain": [
       "[<matplotlib.lines.Line2D at 0x7ff072613640>]"
      ]
     },
     "execution_count": 55,
     "metadata": {},
     "output_type": "execute_result"
    },
    {
     "data": {
      "image/png": "[encoded data removed]",
      "text/plain": [
       "<Figure size 432x288 with 1 Axes>"
      ]
     },
     "metadata": {
      "needs_background": "light"
     },
     "output_type": "display_data"
    }
   ],
   "source": [
    "plt.plot(ts/tau,overlap0)\n",
    "plt.plot(ts/tau,overlap1)"
   ]
  },
  {
   "cell_type": "code",
   "execution_count": 56,
   "id": "34cb3419",
   "metadata": {},
   "outputs": [],
   "source": [
    "#Fast evolution\n",
    "tau = 0.01\n",
    "iterations = 1000\n",
    "ts = np.linspace(0, tau, iterations)\n",
    "delta_t = tau/(iterations-1)\n",
    "(overlap0, overlap1) = evolution(tau, ts, delta_t, Hamiltonian2)"
   ]
  },
  {
   "cell_type": "code",
   "execution_count": 57,
   "id": "ff87de1a",
   "metadata": {},
   "outputs": [
    {
     "data": {
      "text/plain": [
       "[<matplotlib.lines.Line2D at 0x7ff072912970>]"
      ]
     },
     "execution_count": 57,
     "metadata": {},
     "output_type": "execute_result"
    },
    {
     "data": {
      "image/png": "[encoded data removed]",
      "text/plain": [
       "<Figure size 432x288 with 1 Axes>"
      ]
     },
     "metadata": {
      "needs_background": "light"
     },
     "output_type": "display_data"
    }
   ],
   "source": [
    "plt.plot(ts/tau,overlap0)\n",
    "plt.plot(ts/tau,overlap1)"
   ]
  },
  {
   "cell_type": "code",
   "execution_count": null,
   "id": "65e6b4d8",
   "metadata": {},
   "outputs": [],
   "source": []
  }
 ],
 "metadata": {
  "kernelspec": {
   "display_name": "Python 3",
   "language": "python",
   "name": "python3"
  },
  "language_info": {
   "codemirror_mode": {
    "name": "ipython",
    "version": 3
   },
   "file_extension": ".py",
   "mimetype": "text/x-python",
   "name": "python",
   "nbconvert_exporter": "python",
   "pygments_lexer": "ipython3",
   "version": "3.8.8"
  }
 },
 "nbformat": 4,
 "nbformat_minor": 5
}
