{
 "cells": [
  {
   "cell_type": "code",
   "execution_count": 32,
   "id": "05bf084a",
   "metadata": {},
   "outputs": [],
   "source": [
    "import numpy as np\n",
    "from matplotlib import pyplot as plt\n",
    "from QUBO import QMatrix, QUBOSolution\n",
    "from qutip import *\n",
    "import networkx as nx\n",
    "import dwave_networkx as dnx\n",
    "import itertools\n",
    "import minorminer as mm\n",
    "from scipy import interpolate\n",
    "from itertools import combinations\n",
    "from collections import defaultdict\n",
    "from graphs import DrawSolution, NetworkToFile, FileToNetwork\n",
    "from graphs import DrawNetwork, GraphPartitioning, RandomGraphGenerator"
   ]
  },
  {
   "cell_type": "code",
   "execution_count": 33,
   "id": "808fb331",
   "metadata": {},
   "outputs": [],
   "source": [
    "embedding = {0: [864], 1: [871], 2: [866], 3: [863], 4: [859], 5: [856]}"
   ]
  },
  {
   "cell_type": "code",
   "execution_count": 34,
   "id": "d9647a2f",
   "metadata": {},
   "outputs": [],
   "source": [
    "G = FileToNetwork(\"1.txt\")\n",
    "C = FileToNetwork(\"chimera.txt\")"
   ]
  },
  {
   "cell_type": "code",
   "execution_count": 35,
   "id": "748e4e4a",
   "metadata": {},
   "outputs": [],
   "source": [
    "physical_nodes = []\n",
    "for vertex in embedding:\n",
    "    for node in embedding[vertex]:\n",
    "        physical_nodes.append(node)\n",
    "physical_nodes.sort()\n",
    "    \n",
    "used_graph = C.subgraph(physical_nodes)    "
   ]
  },
  {
   "cell_type": "code",
   "execution_count": 36,
   "id": "deeb6eea",
   "metadata": {},
   "outputs": [
    {
     "data": {
      "text/plain": [
       "EdgeView([(864, 871), (866, 871), (871, 863), (856, 863), (859, 863)])"
      ]
     },
     "execution_count": 36,
     "metadata": {},
     "output_type": "execute_result"
    }
   ],
   "source": [
    "nx.nodes(used_graph)\n",
    "nx.edges(used_graph)"
   ]
  },
  {
   "cell_type": "code",
   "execution_count": 37,
   "id": "0f2dbc53",
   "metadata": {},
   "outputs": [],
   "source": [
    "alpha= 1.25\n",
    "beta=1\n",
    "n = nx.number_of_nodes(G)"
   ]
  },
  {
   "cell_type": "code",
   "execution_count": 93,
   "id": "7121a576",
   "metadata": {},
   "outputs": [],
   "source": [
    "Q = defaultdict(int)\n",
    "\n",
    "for u, v in G.edges:\n",
    "    Q[(u,u)] += 1*beta\n",
    "    Q[(v,v)] += 1*beta\n",
    "    Q[(u,v)] += -2*beta\n",
    "\n",
    "for i in G.nodes:\n",
    "    Q[(i,i)] += alpha*(1-n)\n",
    "\n",
    "for i, j in combinations(G.nodes, 2):\n",
    "    Q[(i,j)] += 2*alpha"
   ]
  },
  {
   "cell_type": "code",
   "execution_count": 94,
   "id": "6c7a4ac5",
   "metadata": {
    "scrolled": true
   },
   "outputs": [
    {
     "name": "stdout",
     "output_type": "stream",
     "text": [
      "defaultdict(<class 'int'>, {(0, 0): -5.25, (1, 1): -3.25, (0, 1): 0.5, (2, 2): -5.25, (1, 2): 0.5, (3, 3): -3.25, (1, 3): 0.5, (4, 4): -5.25, (3, 4): 0.5, (5, 5): -5.25, (3, 5): 0.5, (0, 2): 2.5, (0, 3): 2.5, (0, 4): 2.5, (0, 5): 2.5, (1, 4): 2.5, (1, 5): 2.5, (2, 3): 2.5, (2, 4): 2.5, (2, 5): 2.5, (4, 5): 2.5})\n"
     ]
    }
   ],
   "source": [
    "print(Q)"
   ]
  },
  {
   "cell_type": "code",
   "execution_count": 95,
   "id": "d751652e",
   "metadata": {},
   "outputs": [
    {
     "data": {
      "text/plain": [
       "-5.25"
      ]
     },
     "execution_count": 95,
     "metadata": {},
     "output_type": "execute_result"
    }
   ],
   "source": [
    "Q[0,0]"
   ]
  },
  {
   "cell_type": "code",
   "execution_count": 83,
   "id": "7a9ac357",
   "metadata": {},
   "outputs": [
    {
     "data": {
      "text/plain": [
       "10"
      ]
     },
     "execution_count": 83,
     "metadata": {},
     "output_type": "execute_result"
    }
   ],
   "source": [
    "{0: [1306, 1308], 4: [1178], 3: [1304], 6: [1182, 1176], 1: [1432], 2: [1437], 7: [1435], 5: [1433]}\n",
    "10"
   ]
  },
  {
   "cell_type": "code",
   "execution_count": 84,
   "id": "775b09c4",
   "metadata": {},
   "outputs": [],
   "source": [
    "Q = sorted(Q.items())"
   ]
  },
  {
   "cell_type": "code",
   "execution_count": 85,
   "id": "c943d49e",
   "metadata": {},
   "outputs": [
    {
     "name": "stdout",
     "output_type": "stream",
     "text": [
      "[((0, 0), -5.25), ((0, 1), 0.5), ((0, 2), 2.5), ((0, 3), 2.5), ((0, 4), 2.5), ((0, 5), 2.5), ((1, 1), -3.25), ((1, 2), 0.5), ((1, 3), 0.5), ((1, 4), 2.5), ((1, 5), 2.5), ((2, 2), -5.25), ((2, 3), 2.5), ((2, 4), 2.5), ((2, 5), 2.5), ((3, 3), -3.25), ((3, 4), 0.5), ((3, 5), 0.5), ((4, 4), -5.25), ((4, 5), 2.5), ((5, 5), -5.25)]\n"
     ]
    }
   ],
   "source": [
    "print(Q)"
   ]
  },
  {
   "cell_type": "code",
   "execution_count": 92,
   "id": "42bedd6f",
   "metadata": {},
   "outputs": [
    {
     "ename": "TypeError",
     "evalue": "list indices must be integers or slices, not tuple",
     "output_type": "error",
     "traceback": [
      "\u001b[0;31m---------------------------------------------------------------------------\u001b[0m",
      "\u001b[0;31mTypeError\u001b[0m                                 Traceback (most recent call last)",
      "\u001b[0;32m/var/folders/x2/xjs8scz14wj3rhtxmfd1wbvw0000gn/T/ipykernel_20786/2238301811.py\u001b[0m in \u001b[0;36m<module>\u001b[0;34m\u001b[0m\n\u001b[0;32m----> 1\u001b[0;31m \u001b[0mQ\u001b[0m\u001b[0;34m[\u001b[0m\u001b[0;34m(\u001b[0m\u001b[0;36m0\u001b[0m\u001b[0;34m,\u001b[0m\u001b[0;36m0\u001b[0m\u001b[0;34m)\u001b[0m\u001b[0;34m]\u001b[0m\u001b[0;34m\u001b[0m\u001b[0;34m\u001b[0m\u001b[0m\n\u001b[0m\u001b[1;32m      2\u001b[0m \u001b[0;34m\u001b[0m\u001b[0m\n",
      "\u001b[0;31mTypeError\u001b[0m: list indices must be integers or slices, not tuple"
     ]
    }
   ],
   "source": [
    "Q[(0,0)]"
   ]
  },
  {
   "cell_type": "code",
   "execution_count": 89,
   "id": "fed53f8c",
   "metadata": {},
   "outputs": [
    {
     "data": {
      "text/plain": [
       "[((217, 217), -5.25),\n",
       " ((217, 340), 2.5),\n",
       " ((217, 345), 0.5),\n",
       " ((217, 346), 2.5),\n",
       " ((217, 347), 2.5),\n",
       " ((217, 350), 2.5),\n",
       " ((217, 351), 2.5),\n",
       " ((340, 340), -5.25),\n",
       " ((340, 345), 0.5),\n",
       " ((340, 346), 2.5),\n",
       " ((340, 347), 2.5),\n",
       " ((340, 348), 0.5),\n",
       " ((340, 350), 2.5),\n",
       " ((340, 351), 2.5),\n",
       " ((345, 345), 0.6875),\n",
       " ((345, 347), 0.5),\n",
       " ((345, 348), -2.625),\n",
       " ((345, 350), 0.5),\n",
       " ((345, 351), 0.5),\n",
       " ((346, 346), -3.25),\n",
       " ((346, 348), 0.5),\n",
       " ((346, 350), 0.5),\n",
       " ((346, 351), 0.5),\n",
       " ((347, 347), 1.3125),\n",
       " ((347, 348), 0.5),\n",
       " ((347, 350), -2.625),\n",
       " ((347, 351), 0.5),\n",
       " ((348, 348), 1.3125),\n",
       " ((348, 350), 0.5),\n",
       " ((350, 350), -0.3125),\n",
       " ((351, 351), -3.25)]"
      ]
     },
     "execution_count": 89,
     "metadata": {},
     "output_type": "execute_result"
    }
   ],
   "source": [
    "[((217, 217), -5.25), ((217, 340), 2.5), ((217, 345), 0.5), ((217, 346), 2.5), ((217, 347), 2.5), ((217, 350), 2.5), ((217, 351), 2.5), ((340, 340), -5.25), ((340, 345), 0.5), ((340, 346), 2.5), ((340, 347), 2.5), ((340, 348), 0.5), ((340, 350), 2.5), ((340, 351), 2.5), ((345, 345), 0.6875), ((345, 347), 0.5), ((345, 348), -2.625), ((345, 350), 0.5), ((345, 351), 0.5), ((346, 346), -3.25), ((346, 348), 0.5), ((346, 350), 0.5), ((346, 351), 0.5), ((347, 347), 1.3125), ((347, 348), 0.5), ((347, 350), -2.625), ((347, 351), 0.5), ((348, 348), 1.3125), ((348, 350), 0.5), ((350, 350), -0.3125), ((351, 351), -3.25)]"
   ]
  },
  {
   "cell_type": "code",
   "execution_count": null,
   "id": "5f47f8bd",
   "metadata": {},
   "outputs": [],
   "source": []
  }
 ],
 "metadata": {
  "kernelspec": {
   "display_name": "Python 3 (ipykernel)",
   "language": "python",
   "name": "python3"
  },
  "language_info": {
   "codemirror_mode": {
    "name": "ipython",
    "version": 3
   },
   "file_extension": ".py",
   "mimetype": "text/x-python",
   "name": "python",
   "nbconvert_exporter": "python",
   "pygments_lexer": "ipython3",
   "version": "3.8.13"
  }
 },
 "nbformat": 4,
 "nbformat_minor": 5
}
