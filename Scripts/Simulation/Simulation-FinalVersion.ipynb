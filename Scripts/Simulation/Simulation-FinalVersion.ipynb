{
 "cells": [
  {
   "cell_type": "markdown",
   "id": "f9eae6e9",
   "metadata": {},
   "source": [
    "# Numerical simulation (annealing time)"
   ]
  },
  {
   "cell_type": "code",
   "execution_count": 1,
   "id": "9a9f8462",
   "metadata": {},
   "outputs": [],
   "source": [
    "import numpy as np\n",
    "from matplotlib import pyplot as plt\n",
    "from QUBO import QMatrix, QUBOSolution\n",
    "from qutip import *\n",
    "import networkx as nx\n",
    "import itertools\n",
    "from scipy import interpolate\n",
    "from graphs import DrawSolution, NetworkToFile, FileToNetwork\n",
    "from graphs import DrawNetwork, GraphPartitioning, RandomGraphGenerator"
   ]
  },
  {
   "cell_type": "markdown",
   "id": "b9346aa6",
   "metadata": {},
   "source": [
    "We want to simulate the annealing path \n",
    "\n",
    "$$H(s) = -\\frac{A(s)}{2} H_I + \\frac{B(s)}{2} H_{P}$$\n",
    "\n",
    "with \n",
    "\n",
    "$$H_I = \\sum_i \\sigma_i^x$$\n",
    "\n",
    "and \n",
    "\n",
    "$$H_{P} = \\sum_i h_i \\sigma_i^z + \\sum_{i<j} J_{ij} \\sigma_i^z \\sigma_j^z$$"
   ]
  },
  {
   "cell_type": "markdown",
   "id": "8b69b695",
   "metadata": {},
   "source": [
    "Since we have developed most of the examples using the QUBO formulation, we will stick to that. Therefore, the problem Hamiltonian will be given by \n",
    "\n",
    "$$H_p(x) = \\sum_i Q_{ii} x_i + \\sum_{i < j} Q_{ij} x_i x_j \\quad x_i \\in \\{0,1\\}$$\n",
    "\n",
    "where Q is the matrix calculated for the GP problem."
   ]
  },
  {
   "cell_type": "markdown",
   "id": "0feea670",
   "metadata": {},
   "source": [
    "## Functions"
   ]
  },
  {
   "cell_type": "code",
   "execution_count": 2,
   "id": "1960dce3",
   "metadata": {},
   "outputs": [],
   "source": [
    "#Initial Hamiltonian\n",
    "def makeInitialHamiltonian(N):\n",
    "    '''\n",
    "    Returns the initial Hamiltonian\n",
    "\n",
    "    Parameters\n",
    "    ----------\n",
    "    N  : int\n",
    "         dimension of the graph\n",
    "                \n",
    "    Output\n",
    "    ------\n",
    "    Hi  :  array\n",
    "           initial Hamiltonian\n",
    "    '''\n",
    "            \n",
    "    sx = sigmax()\n",
    "    identity = qeye(2)\n",
    "    \n",
    "    sx_list = []\n",
    "    \n",
    "    for n in range(N):\n",
    "        aux_list = []\n",
    "        for m in range(N):\n",
    "            aux_list.append(identity)\n",
    "    \n",
    "        aux_list[n] = sx\n",
    "        sx_list.append(tensor(aux_list))\n",
    "    \n",
    "    Hi = 0\n",
    "    for item in sx_list:\n",
    "        Hi += item\n",
    "    \n",
    "    return np.array(-Hi)"
   ]
  },
  {
   "cell_type": "code",
   "execution_count": 3,
   "id": "ef18941f",
   "metadata": {},
   "outputs": [],
   "source": [
    "#QUBO Hamiltonian\n",
    "def makeQUBOHamiltonian(fileName, alpha, beta):\n",
    "    '''\n",
    "    Returns the QUBO problem Hamiltonian for a given graph\n",
    "\n",
    "    Parameters\n",
    "    ----------\n",
    "    fileName  : string\n",
    "                name of the file containing the graph\n",
    "    alpha     : double\n",
    "                weight balancing constraint for the Q matrix\n",
    "    beta      : double\n",
    "                weight balancing constraint for the Q matrix\n",
    "                \n",
    "    Output\n",
    "    ------\n",
    "    Hp  :  array\n",
    "           QUBO problem Hamiltonian\n",
    "    '''\n",
    "    \n",
    "    #Computing the Q matrix\n",
    "    Q = QMatrix(fileName, alpha, beta)\n",
    "    \n",
    "    #Hamiltonian\n",
    "    dim = pow(2, len(Q))\n",
    "    H = np.zeros(dim)\n",
    "    Hp = np.zeros((dim, dim), dtype=complex)\n",
    "    \n",
    "    state = [0 for i in range(len(Q))]\n",
    "      \n",
    "    #for k in range(dim):\n",
    "        #for i in range(len(Q)):\n",
    "            #H[k] += Q[i][i]*state[i]\n",
    "        #for j in range(i):\n",
    "            #H[k] += Q[i][j]*state[i]*state[j]\n",
    "    \n",
    "        #nextState(state)\n",
    "    for k in range(dim):\n",
    "        H[k] = np.matmul(state, np.matmul(Q, state))\n",
    "        nextState(state)\n",
    "        \n",
    "    for k in range(dim):\n",
    "        Hp[k][k] = H[k]\n",
    "        \n",
    "    return H, Hp  "
   ]
  },
  {
   "cell_type": "code",
   "execution_count": 4,
   "id": "1baaf189",
   "metadata": {},
   "outputs": [],
   "source": [
    "def nextState(state):\n",
    "    '''\n",
    "    Modifies a given QUBO state into a new one\n",
    "    \n",
    "    Parameters\n",
    "    ----------\n",
    "    state  : array\n",
    "             state of the QUBO Hamiltonian\n",
    "    '''\n",
    "    \n",
    "    n = len(state) - 1\n",
    "    aux = False\n",
    "    \n",
    "    while not (aux):\n",
    "        \n",
    "        if (state[n] == 0):\n",
    "            aux = True\n",
    "            break\n",
    "        \n",
    "        n -= 1\n",
    "        if (n < 0):\n",
    "            break\n",
    "    \n",
    "    state[n] = 1\n",
    "    n += 1\n",
    "    while (n < len(state)):\n",
    "        state[n] = 0\n",
    "        n +=1"
   ]
  },
  {
   "cell_type": "code",
   "execution_count": 5,
   "id": "ca068cb0",
   "metadata": {},
   "outputs": [],
   "source": [
    "def groundState(H):\n",
    "    '''\n",
    "    Computes the ground states of a given diagonal Hamiltonian\n",
    "    \n",
    "    Parameters\n",
    "    ----------\n",
    "    H  : array\n",
    "         given Hamiltonian\n",
    "         \n",
    "    Output\n",
    "    ------\n",
    "    gs  : list\n",
    "          position of the ground states\n",
    "          \n",
    "    '''\n",
    "    \n",
    "    aux = H[0]\n",
    "    \n",
    "    for i in range(len(H)):\n",
    "        if(H[i] < aux):\n",
    "            aux = H[i]\n",
    "    \n",
    "    gs = []\n",
    "    \n",
    "    for i in range(len(H)):\n",
    "        if (np.absolute(H[i]-aux) < 0.001):\n",
    "            gs.append(i)\n",
    "        \n",
    "    return gs"
   ]
  },
  {
   "cell_type": "code",
   "execution_count": 6,
   "id": "25d5dbe3",
   "metadata": {},
   "outputs": [],
   "source": [
    "def path(fileName):\n",
    "    '''\n",
    "    Returns the annealing path functions\n",
    "    \n",
    "    Parameters\n",
    "    ----------\n",
    "    fileName  : string\n",
    "                name of the file containing the functions\n",
    "    \n",
    "    Output\n",
    "    ------\n",
    "    A  : array\n",
    "         values of A(s)\n",
    "    B  : array\n",
    "         values of B(s)\n",
    "    '''\n",
    "    \n",
    "    vecA = np.zeros(1000)\n",
    "    vecB = np.zeros(1000)\n",
    "    s = np.zeros(1000)\n",
    "    i = 0\n",
    "    \n",
    "    with open(fileName) as file:\n",
    "        for line in file:\n",
    "            info =  line.split()\n",
    "            s[i] = float(info[0])\n",
    "            vecA[i] = np.pi*float(info[1])\n",
    "            vecB[i] = np.pi*float(info[2])\n",
    "            i +=1\n",
    "            \n",
    "    A = interpolate.interp1d(s, vecA, kind = \"quadratic\")\n",
    "    B = interpolate.interp1d(s, vecB, kind = \"quadratic\")\n",
    "    \n",
    "    return A, B"
   ]
  },
  {
   "cell_type": "code",
   "execution_count": 7,
   "id": "b9e08013",
   "metadata": {},
   "outputs": [],
   "source": [
    "def spectraEvolution(Hi, Hp, A, B, divisions, num_bands, gs):\n",
    "    '''\n",
    "    Calculates the evolution of the energy for a given number of states\n",
    "    \n",
    "    Parameters\n",
    "    ----------\n",
    "    Hi         : array\n",
    "                 initial Hamiltonian\n",
    "    Hp         : array\n",
    "                 problem Hamiltonian\n",
    "    A          : interpolate function\n",
    "    B          : interpolate function\n",
    "    \n",
    "    divisions  : int\n",
    "                 number of steps s\n",
    "                 \n",
    "    num_bands  : int\n",
    "                 number of states to study\n",
    "    gs         : int\n",
    "                 ground states of Hp\n",
    "\n",
    "    Output\n",
    "    ------\n",
    "    gap    : float\n",
    "             value of the energy gap\n",
    "    evals  : array\n",
    "             energy values\n",
    "    '''\n",
    "    \n",
    "    degeneracy = len(gs)\n",
    "    gap = 1e100\n",
    "    s = np.linspace(0, 1, divisions)\n",
    "    evals = np.zeros((num_bands, divisions))\n",
    "    \n",
    "    for i, ts in enumerate(s):\n",
    "        w = np.linalg.eigvalsh(A(ts)*Hi + B(ts)*Hp)\n",
    "        \n",
    "        for j in range(num_bands):\n",
    "            evals[j][i] = w[j]\n",
    "            \n",
    "        if (gap > (w[degeneracy] - w[0])):\n",
    "            gap = w[degeneracy] - w[0]\n",
    "    \n",
    "    return gap, evals"
   ]
  },
  {
   "cell_type": "code",
   "execution_count": 8,
   "id": "3d0b1685",
   "metadata": {},
   "outputs": [],
   "source": [
    "def CrankNicolson(H, psi, delta_t):\n",
    "    '''\n",
    "    Crank-Nicolson algorithm for the time evolution of the wavefunction\n",
    "\n",
    "    Input\n",
    "    -----\n",
    "    H        : array\n",
    "               Hamiltonian of the system\n",
    "    psi      : array\n",
    "               wave function at t\n",
    "    delta_t  : double\n",
    "               time increase\n",
    "    \n",
    "    Output\n",
    "    ------\n",
    "    psi  : array\n",
    "           wave function at t + delta_t\n",
    "    '''\n",
    "    dim = len(H)\n",
    "    \n",
    "    M = np.identity(dim, dtype=complex) - (0. + 1.j)*delta_t/2*H\n",
    "    Minv = np.linalg.inv(np.identity(dim, dtype=complex) + (0. + 1.j)*delta_t/2*H)\n",
    "    \n",
    "    psi = np.matmul(M, psi)\n",
    "    psi = np.matmul(Minv, psi)\n",
    "    \n",
    "    return psi"
   ]
  },
  {
   "cell_type": "code",
   "execution_count": 9,
   "id": "8564a7ba",
   "metadata": {},
   "outputs": [],
   "source": [
    "def evolutionAB_IG(Hi, Hp, A, B, tf, delta_t, gs):\n",
    "    '''\n",
    "    Calculates the evolution of the system and the overlap with instantaneous ground state \n",
    "    \n",
    "\n",
    "    Input\n",
    "    -----\n",
    "    Hi          : array\n",
    "                  initial Hamiltonian\n",
    "    Hp          : array\n",
    "                  problem Hamiltonian\n",
    "    A           : interpolate function\n",
    "    B           : interpolate function\n",
    "    tf          : float\n",
    "                  maximum annealing time\n",
    "    delta_t     : double\n",
    "                  time increase\n",
    "    Output\n",
    "    ------\n",
    "    overlap  : list\n",
    "               overlap with instantaneous ground state\n",
    "    '''\n",
    "    \n",
    "    overlap = []\n",
    "    t = 0\n",
    "    degeneracy = len(gs)\n",
    "    \n",
    "    vap, vep = np.linalg.eigh(A(t/tf)*Hi + B(t/tf)*Hp)\n",
    "    mod = 0\n",
    "    psi = vep[:,0]\n",
    "    \n",
    "    for i in range(degeneracy):\n",
    "        psi0 = vep[:,i]\n",
    "        psi0 = np.conjugate(psi0)\n",
    "        prod = np.dot(psi,psi0)\n",
    "        mod += (np.real(prod)*np.real(prod) + np.imag(prod)*np.imag(prod))\n",
    "    \n",
    "    overlap.append(mod)\n",
    "        \n",
    "    while (t < tf):\n",
    "        \n",
    "        H = A(t/tf)*Hi + B(t/tf)*Hp\n",
    "            \n",
    "        psi = CrankNicolson(H, psi, delta_t)\n",
    "        t += delta_t\n",
    "            \n",
    "        vap, vep = np.linalg.eigh(H)\n",
    "        mod = 0\n",
    "            \n",
    "        for j in range(degeneracy):\n",
    "            psi0 = vep[:, j]\n",
    "            psi0 = np.conjugate(psi0)\n",
    "            prod = np.dot(psi,psi0)\n",
    "            mod += (np.real(prod)*np.real(prod) + np.imag(prod)*np.imag(prod))\n",
    "            \n",
    "        overlap.append(mod)\n",
    "    \n",
    "    return overlap"
   ]
  },
  {
   "cell_type": "code",
   "execution_count": 10,
   "id": "7385aafe",
   "metadata": {},
   "outputs": [],
   "source": [
    "def evolutionABTarget(Hi, Hp, A, B, tf, delta_t, gs):\n",
    "    '''\n",
    "    Calculates the evolution of the system and the overlap with target ground state \n",
    "    \n",
    "\n",
    "    Input\n",
    "    -----\n",
    "    Hi          : array\n",
    "                  initial Hamiltonian\n",
    "    Hp          : array\n",
    "                  problem Hamiltonian\n",
    "    A           : interpolate function\n",
    "    B           : interpolate function\n",
    "    tf          : float\n",
    "                  maximum annealing time\n",
    "    delta_t     : double\n",
    "                  time increase\n",
    "    Output\n",
    "    ------\n",
    "    overlap  : list\n",
    "               overlap with target ground state\n",
    "    '''\n",
    "    \n",
    "    overlap = []\n",
    "    t = 0\n",
    "    degeneracy = len(gs)\n",
    "    \n",
    "    vap, vep = np.linalg.eigh(Hp)\n",
    "    psi_target = []\n",
    "    for i in range(degeneracy):\n",
    "        psi_target.append(vep[:, i])\n",
    "    \n",
    "    H = A(t/tf)*Hi + B(t/tf)*Hp\n",
    "    \n",
    "    vap, vep = np.linalg.eigh(H)\n",
    "    mod = 0\n",
    "    psi = vep[:,0]\n",
    "    \n",
    "    for i in range(degeneracy):\n",
    "        psi0 = psi_target[i]\n",
    "        psi0 = np.conjugate(psi0)\n",
    "        prod = np.dot(psi,psi0)\n",
    "        mod += (np.real(prod)*np.real(prod) + np.imag(prod)*np.imag(prod))\n",
    "    \n",
    "    overlap.append(mod)\n",
    "        \n",
    "    while (t < tf):\n",
    "        \n",
    "        H = A(t/tf)*Hi + B(t/tf)*Hp\n",
    "            \n",
    "        psi = CrankNicolson(H, psi, delta_t)\n",
    "        t += delta_t\n",
    "            \n",
    "        mod = 0\n",
    "            \n",
    "        for j in range(degeneracy):\n",
    "            psi0 = psi_target[i]\n",
    "            psi0 = np.conjugate(psi0)\n",
    "            prod = np.dot(psi,psi0)\n",
    "            mod += (np.real(prod)*np.real(prod) + np.imag(prod)*np.imag(prod))\n",
    "            \n",
    "        overlap.append(mod)\n",
    "    \n",
    "    return overlap"
   ]
  },
  {
   "cell_type": "markdown",
   "id": "d6747f74",
   "metadata": {},
   "source": [
    "## Simulation for a given graph"
   ]
  },
  {
   "cell_type": "code",
   "execution_count": 11,
   "id": "b3a7fffd",
   "metadata": {
    "scrolled": true
   },
   "outputs": [
    {
     "data": {
      "image/png": "[encoded data removed]",
      "text/plain": [
       "<Figure size 640x480 with 1 Axes>"
      ]
     },
     "metadata": {},
     "output_type": "display_data"
    }
   ],
   "source": [
    "#Create the graph\n",
    "G = FileToNetwork(\"1.txt\")\n",
    "DrawNetwork(G, \"1.png\")"
   ]
  },
  {
   "cell_type": "code",
   "execution_count": 12,
   "id": "ef0c1748",
   "metadata": {},
   "outputs": [
    {
     "name": "stdout",
     "output_type": "stream",
     "text": [
      "[0.5        1.16666667 1.83333333 2.5        3.16666667 3.83333333\n",
      " 4.5        5.16666667 5.83333333 6.5       ]\n"
     ]
    }
   ],
   "source": [
    "#Parameters\n",
    "min_tf = 0.5\n",
    "max_tf = 6.5\n",
    "num_tf = 10\n",
    "tf = np.linspace(min_tf, max_tf, num_tf)\n",
    "delta_t = 0.001\n",
    "print(tf)"
   ]
  },
  {
   "cell_type": "code",
   "execution_count": 13,
   "id": "cb354a32",
   "metadata": {},
   "outputs": [],
   "source": [
    "#Functions\n",
    "A, B = path(\"DW_2000Q_6.txt\")"
   ]
  },
  {
   "cell_type": "code",
   "execution_count": 14,
   "id": "70382097",
   "metadata": {},
   "outputs": [],
   "source": [
    "#Hamiltonians\n",
    "Hi = makeInitialHamiltonian(len(list(G.nodes)))\n",
    "Hp1, Hp2 = makeQUBOHamiltonian(\"1.txt\", 1.25, 1)\n",
    "gs = groundState(Hp1)\n",
    "num_eigenstates = 3\n",
    "dim = len(Hi)"
   ]
  },
  {
   "cell_type": "code",
   "execution_count": 15,
   "id": "dd367dcb",
   "metadata": {},
   "outputs": [
    {
     "name": "stdout",
     "output_type": "stream",
     "text": [
      "9.817624243925323\n"
     ]
    }
   ],
   "source": [
    "#Evolution of the energy\n",
    "gap, energies = spectraEvolution(Hi, Hp2, A, B, 100, num_eigenstates, gs)\n",
    "print(gap)"
   ]
  },
  {
   "cell_type": "code",
   "execution_count": 16,
   "id": "0687b495",
   "metadata": {
    "scrolled": true
   },
   "outputs": [
    {
     "data": {
      "image/png": "[encoded data removed]",
      "text/plain": [
       "<Figure size 640x480 with 1 Axes>"
      ]
     },
     "metadata": {},
     "output_type": "display_data"
    }
   ],
   "source": [
    "for i in range(num_eigenstates):\n",
    "    plt.xlabel(\"Scaled time s=t/t_f\")\n",
    "    plt.ylabel(\"Energy\")\n",
    "    plt.plot(np.linspace(0,1,100), energies[i])"
   ]
  },
  {
   "cell_type": "code",
   "execution_count": 17,
   "id": "2400b848",
   "metadata": {},
   "outputs": [
    {
     "data": {
      "image/png": "[encoded data removed]",
      "text/plain": [
       "<Figure size 640x480 with 1 Axes>"
      ]
     },
     "metadata": {},
     "output_type": "display_data"
    }
   ],
   "source": [
    "for i in range(len(gs)):\n",
    "    plt.xlabel(\"Scaled time s=t/t_f\")\n",
    "    plt.ylabel(\"Energy\")\n",
    "    plt.plot(np.linspace(0,1,100), energies[i])"
   ]
  },
  {
   "cell_type": "code",
   "execution_count": null,
   "id": "7adce1f9",
   "metadata": {},
   "outputs": [],
   "source": [
    "#Overlap (instantaneous ground state)\n",
    "overlap_IG = []\n",
    "for i in range(num_tf):\n",
    "    overlap_IG.append([])\n",
    "    \n",
    "for i in range(num_tf):\n",
    "    \n",
    "    t_f = tf[i]\n",
    "    \n",
    "    #Evolution\n",
    "    overlap_IG[i].append(evolutionAB_IG(Hi, Hp2, A, B, t_f, delta_t, gs)) "
   ]
  },
  {
   "cell_type": "code",
   "execution_count": null,
   "id": "afbacc59",
   "metadata": {
    "scrolled": true
   },
   "outputs": [],
   "source": [
    "#Plot overlap with instantaneous ground state\n",
    "plt.xlim([0, 1])\n",
    "plt.ylim([0, 1])\n",
    "plt.xlabel(\"Scaled time s=t/t_f\")\n",
    "plt.ylabel(\"Overlap with instantaneous ground state\")\n",
    "for i in range(num_tf):\n",
    "    x = np.linspace(0, 1, len(overlap_IG[i][0]))\n",
    "    name = str(round(tf[i],2))\n",
    "    plt.plot(x, overlap_IG[i][0], label = name)\n",
    "    plt.legend()\n",
    "plt.savefig(\"Overlap_IG_6.png\")"
   ]
  },
  {
   "cell_type": "code",
   "execution_count": null,
   "id": "1d5310fd",
   "metadata": {},
   "outputs": [],
   "source": [
    "#Overlap (target ground state)\n",
    "overlap_TG = []\n",
    "for i in range(num_tf):\n",
    "    overlap_TG.append([])\n",
    "    \n",
    "for i in range(num_tf):\n",
    "    \n",
    "    t_f = tf[i]\n",
    "    \n",
    "    #Evolution\n",
    "    overlap_TG[i].append(evolutionABTarget(Hi, Hp2, A, B, t_f, delta_t, gs)) "
   ]
  },
  {
   "cell_type": "code",
   "execution_count": null,
   "id": "baa8dc94",
   "metadata": {},
   "outputs": [],
   "source": [
    "#Plot overlap with target ground state\n",
    "plt.xlim([0, 1])\n",
    "plt.ylim([0, 1])\n",
    "plt.xlabel(\"Scaled time s=t/t_f\")\n",
    "plt.ylabel(\"Overlap with target ground state\")\n",
    "for i in range(num_tf):\n",
    "    x = np.linspace(0, 1, len(overlap_TG[i][0]))\n",
    "    name = str(round(tf[i],2))\n",
    "    plt.plot(x, overlap_TG[i][0], label = name)\n",
    "    plt.legend()\n",
    "plt.savefig(\"Overlap_TG_6.png\")"
   ]
  },
  {
   "cell_type": "code",
   "execution_count": null,
   "id": "f6a4dc8c",
   "metadata": {},
   "outputs": [],
   "source": [
    "def checkResults(overlap1, overlap2, num_tf):\n",
    "    results = []\n",
    "    \n",
    "    for i in range(num_tf):\n",
    "        results.append(overlap1[i][0][-1]-overlap2[i][0][-1])\n",
    "    return results           "
   ]
  },
  {
   "cell_type": "code",
   "execution_count": null,
   "id": "c39a2697",
   "metadata": {},
   "outputs": [],
   "source": [
    "print(checkResults(overlap_IG, overlap_TG, num_tf))"
   ]
  },
  {
   "cell_type": "code",
   "execution_count": null,
   "id": "d4f1e58f",
   "metadata": {},
   "outputs": [],
   "source": [
    "plt.xlim([min(tf), max(tf)])\n",
    "plt.ylim([0, 1])\n",
    "plt.xlabel(\"Annealing time (ns)\")\n",
    "plt.ylabel(\"Overlap (Success Probability)\")\n",
    "successProbability = np.empty(num_tf)\n",
    "for i in range(num_tf):\n",
    "    successProbability[i] = overlap_TG[i][0][-1]\n",
    "plt.plot(tf, successProbability)\n",
    "plt.savefig(\"Success_Probability_vs_Annealing_time_6\")"
   ]
  }
 ],
 "metadata": {
  "kernelspec": {
   "display_name": "Python 3 (ipykernel)",
   "language": "python",
   "name": "python3"
  },
  "language_info": {
   "codemirror_mode": {
    "name": "ipython",
    "version": 3
   },
   "file_extension": ".py",
   "mimetype": "text/x-python",
   "name": "python",
   "nbconvert_exporter": "python",
   "pygments_lexer": "ipython3",
   "version": "3.8.13"
  }
 },
 "nbformat": 4,
 "nbformat_minor": 5
}
