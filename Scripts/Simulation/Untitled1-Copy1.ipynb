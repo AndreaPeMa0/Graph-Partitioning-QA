{
 "cells": [
  {
   "cell_type": "markdown",
   "id": "ca18c6b8",
   "metadata": {},
   "source": [
    "# Simulation of the physical sistem"
   ]
  },
  {
   "cell_type": "markdown",
   "id": "df44b88a",
   "metadata": {},
   "source": [
    "## Functions"
   ]
  },
  {
   "cell_type": "code",
   "execution_count": 1,
   "id": "17e6dfe2",
   "metadata": {},
   "outputs": [],
   "source": [
    "import numpy as np\n",
    "from matplotlib import pyplot as plt\n",
    "from QUBO import QMatrix, QUBOSolution\n",
    "from qutip import *\n",
    "import networkx as nx\n",
    "import dwave_networkx as dnx\n",
    "import itertools\n",
    "import minorminer as mm\n",
    "from scipy import interpolate\n",
    "from itertools import combinations\n",
    "from collections import defaultdict\n",
    "from graphs import DrawSolution, NetworkToFile, FileToNetwork\n",
    "from graphs import DrawNetwork, GraphPartitioning, RandomGraphGenerator"
   ]
  },
  {
   "cell_type": "code",
   "execution_count": 2,
   "id": "6327d43f",
   "metadata": {},
   "outputs": [],
   "source": [
    "#Initial Hamiltonian\n",
    "def makeInitialHamiltonian(N):\n",
    "    '''\n",
    "    Returns the initial Hamiltonian\n",
    "\n",
    "    Parameters\n",
    "    ----------\n",
    "    N  : int\n",
    "         dimension of the graph\n",
    "                \n",
    "    Output\n",
    "    ------\n",
    "    Hi  :  array\n",
    "           initial Hamiltonian\n",
    "    '''\n",
    "            \n",
    "    sx = sigmax()\n",
    "    identity = qeye(2)\n",
    "    \n",
    "    sx_list = []\n",
    "    \n",
    "    for n in range(N):\n",
    "        aux_list = []\n",
    "        for m in range(N):\n",
    "            aux_list.append(identity)\n",
    "    \n",
    "        aux_list[n] = sx\n",
    "        sx_list.append(tensor(aux_list))\n",
    "    \n",
    "    Hi = 0\n",
    "    for item in sx_list:\n",
    "        Hi += item\n",
    "    \n",
    "    return np.array(-Hi)"
   ]
  },
  {
   "cell_type": "code",
   "execution_count": 3,
   "id": "8bf1328f",
   "metadata": {},
   "outputs": [],
   "source": [
    "#QUBO Hamiltonian\n",
    "def makeQUBOHamiltonian(fileName, alpha, beta):\n",
    "    '''\n",
    "    Returns the QUBO problem Hamiltonian for a given graph\n",
    "\n",
    "    Parameters\n",
    "    ----------\n",
    "    fileName  : string\n",
    "                name of the file containing the graph\n",
    "    alpha     : double\n",
    "                weight balancing constraint for the Q matrix\n",
    "    beta      : double\n",
    "                weight balancing constraint for the Q matrix\n",
    "                \n",
    "    Output\n",
    "    ------\n",
    "    Hp  :  array\n",
    "           QUBO problem Hamiltonian\n",
    "    '''\n",
    "    \n",
    "    #Graph\n",
    "    G = FileToNetwork(fileName)\n",
    "    n = nx.number_of_nodes(G)\n",
    "    m = nx.number_of_edges(G)\n",
    "    \n",
    "    #Computing the Q matrix\n",
    "    Q = np.zeros((n,n))\n",
    "\n",
    "    for u, v  in G.edges:\n",
    "        node_u = min(u,v)\n",
    "        node_v = max(u,v)\n",
    "    \n",
    "        Q[node_u,node_u] += 1*beta\n",
    "        Q[node_v,node_v] += 1*beta\n",
    "        Q[node_u,node_v] += -2*beta\n",
    " \n",
    "    for i in G.nodes:\n",
    "        Q[i,i] += alpha*(1-n)\n",
    "\n",
    "    for i, j in combinations(G.nodes, 2):\n",
    "        node_i = min(i,j)\n",
    "        node_j = max(i,j)\n",
    "        Q[node_i,node_j] += 2*alpha\n",
    "    \n",
    "    \n",
    "    #Hamiltonian\n",
    "    dim = pow(2, len(Q))\n",
    "    H = np.zeros(dim)\n",
    "    Hp = np.zeros((dim, dim), dtype=complex)\n",
    "    \n",
    "    state = [0 for i in range(len(Q))]\n",
    "      \n",
    "    #for k in range(dim):\n",
    "        #for i in range(len(Q)):\n",
    "            #H[k] += Q[i][i]*state[i]\n",
    "        #for j in range(i):\n",
    "            #H[k] += Q[i][j]*state[i]*state[j]\n",
    "    \n",
    "        #nextState(state)\n",
    "    for k in range(dim):\n",
    "        H[k] = np.matmul(state, np.matmul(Q, state))\n",
    "        nextState(state)\n",
    "        \n",
    "    for k in range(dim):\n",
    "        Hp[k][k] = H[k]\n",
    "        \n",
    "    return H, Hp  "
   ]
  },
  {
   "cell_type": "code",
   "execution_count": 4,
   "id": "75079e50",
   "metadata": {},
   "outputs": [],
   "source": [
    "#QUBO Physical Hamiltonian\n",
    "def makePhysicalHamiltonian(source, target, embedding, alpha, beta, RCS):\n",
    "    '''\n",
    "    Returns the QUBO problem Hamiltonian for a given graph\n",
    "\n",
    "    Parameters\n",
    "    ----------\n",
    "    source      : networkx graph\n",
    "                  source graph\n",
    "    target      : networkx graph\n",
    "                  target graph\n",
    "    embedding   : dictionary\n",
    "                  minor embedding from the source graph to the target graph\n",
    "    alpha       : double\n",
    "                  weight balancing constraint for the Q matrix\n",
    "    beta        : double\n",
    "                  weight balancing constraint for the Q matrix\n",
    "    RCS         : double\n",
    "                  RCS value\n",
    "    \n",
    "    Output\n",
    "    ------\n",
    "    H, Hp  :  array\n",
    "              QUBO problem Hamiltonians\n",
    "    '''\n",
    "    \n",
    "    #Graph (logical)\n",
    "    n = nx.number_of_nodes(source)\n",
    "    m = nx.number_of_edges(source)\n",
    "    \n",
    "    #Qubits used in physical system (physical graph)\n",
    "    physical_nodes = []\n",
    "    for vertex in embedding:\n",
    "        for node in embedding[vertex]:\n",
    "            physical_nodes.append(node)\n",
    "    num_physical_qubits = len(physical_nodes)\n",
    "    \n",
    "    used_graph = target.subgraph(physical_nodes)   \n",
    "    \n",
    "\n",
    "    #Logical parameters\n",
    "    Q = np.zeros((n,n))\n",
    "\n",
    "    for u, v in source.edges:\n",
    "        node_u = min(u,v)\n",
    "        node_v = max(u,v)\n",
    "    \n",
    "        Q[node_u,node_u] += 1*beta\n",
    "        Q[node_v,node_v] += 1*beta\n",
    "        Q[node_u,node_v] += -2*beta\n",
    " \n",
    "    for i in source.nodes:\n",
    "        Q[i,i] += alpha*(1-n)\n",
    "\n",
    "    for i, j in combinations(source.nodes, 2):\n",
    "        node_i = min(i,j)\n",
    "        node_j = max(i,j)\n",
    "        Q[node_i,node_j] += 2*alpha\n",
    "    \n",
    "    #Physical parameters\n",
    "    Qp = defaultdict(int)\n",
    "    \n",
    "    for i in source.nodes:\n",
    "        chain_length = float(len(embedding[i]))\n",
    "        for node in embedding[i]:\n",
    "            Qp[(node, node)] = Q[i,i]/chain_length\n",
    "        \n",
    "    for i in source.nodes:\n",
    "        for j in range(i):\n",
    "            number_of_connections = 0\n",
    "            for node_i in embedding[i]:\n",
    "                for node_j in used_graph.neighbors(node_i):\n",
    "                    if node_j in embedding[j]:\n",
    "                        number_of_connections +=1\n",
    "            for node_i in embedding[i]:\n",
    "                for node_j in used_graph.neighbors(node_i):\n",
    "                    if  node_j in embedding[j]:\n",
    "                        u =  min(node_i, node_j)\n",
    "                        v =  max(node_i, node_j)\n",
    "                        Qp[(u,v)] = Q[j,i]/number_of_connections   \n",
    "        \n",
    "    max_val = np.abs(np.amax(Q))\n",
    "    min_val = np.abs(np.amin(Q)) \n",
    "    chain_strength = max(max_val, min_val)*RCS\n",
    " \n",
    "    \n",
    "    for i in source.nodes:\n",
    "        chain = used_graph.subgraph(embedding[i])\n",
    "        chain_edges = list(chain.edges)\n",
    "        for edge in chain_edges:\n",
    "            u =  min(edge)\n",
    "            v =  max(edge)\n",
    "        \n",
    "            Qp[(u,v)] = -4*chain_strength\n",
    "            Qp[(u,u)] += 2*chain_strength\n",
    "            Qp[(v,v)] += 2*chain_strength\n",
    "            \n",
    "    Qp_matrix = np.zeros((num_physical_qubits, num_physical_qubits))\n",
    "    for label1, label2 in Qp:\n",
    "        i = physical_nodes.index(label1)\n",
    "        j = physical_nodes.index(label2)\n",
    "        node1 = min(i,j)\n",
    "        node2 = max(i,j)\n",
    "        \n",
    "        Qp_matrix[node1][node2] = Qp[(label1, label2)]\n",
    "        \n",
    "     \n",
    "    #Hamiltonian\n",
    "    dim = pow(2, num_physical_qubits)\n",
    "    H = np.zeros(dim)\n",
    "    Hp = np.zeros((dim, dim), dtype=complex)\n",
    "    \n",
    "    state = [0 for i in range(num_physical_qubits)]\n",
    "    \n",
    "    for k in range(dim):\n",
    "        H[k] = np.matmul(state, np.matmul(Qp_matrix, state))\n",
    "        nextState(state)\n",
    "        \n",
    "    #for k in range(dim):\n",
    "        #for i in range(len(physical_nodes)):\n",
    "            #H[k] += Qp[(physical_nodes[i],physical_nodes[i])]*state[i]\n",
    "            #for j in range(i):\n",
    "                #H[k] += Qp[(physical_nodes[j],physical_nodes[i])]*state[i]*state[j]\n",
    "        #nextState(state)\n",
    "        \n",
    "    for k in range(dim):\n",
    "        Hp[k][k] = H[k]\n",
    "      \n",
    "    return H, Hp"
   ]
  },
  {
   "cell_type": "code",
   "execution_count": 5,
   "id": "2cf7aae1",
   "metadata": {},
   "outputs": [],
   "source": [
    "def nextState(state):\n",
    "    '''\n",
    "    Modifies a given QUBO state into a new one\n",
    "    \n",
    "    Parameters\n",
    "    ----------\n",
    "    state  : array\n",
    "             state of the QUBO Hamiltonian\n",
    "    '''\n",
    "    \n",
    "    n = len(state) - 1\n",
    "    aux = False\n",
    "    \n",
    "    while not (aux):\n",
    "        \n",
    "        if (state[n] == 0):\n",
    "            aux = True\n",
    "            break\n",
    "        \n",
    "        n -= 1\n",
    "        if (n < 0):\n",
    "            break\n",
    "    \n",
    "    state[n] = 1\n",
    "    n += 1\n",
    "    while (n < len(state)):\n",
    "        state[n] = 0\n",
    "        n +=1"
   ]
  },
  {
   "cell_type": "code",
   "execution_count": 6,
   "id": "b0bea324",
   "metadata": {},
   "outputs": [],
   "source": [
    "def groundState(H):\n",
    "    '''\n",
    "    Computes the ground states of a given diagonal Hamiltonian\n",
    "    \n",
    "    Parameters\n",
    "    ----------\n",
    "    H  : array\n",
    "         given Hamiltonian\n",
    "         \n",
    "    Output\n",
    "    ------\n",
    "    gs  : list\n",
    "          position of the ground states\n",
    "          \n",
    "    '''\n",
    "    \n",
    "    aux = H[0]\n",
    "    \n",
    "    for i in range(len(H)):\n",
    "        if(H[i] < aux):\n",
    "            aux = H[i]\n",
    "    \n",
    "    gs = []\n",
    "    \n",
    "    for i in range(len(H)):\n",
    "        if (np.absolute(H[i]-aux) < 0.001):\n",
    "            gs.append(i)\n",
    "        \n",
    "    return gs"
   ]
  },
  {
   "cell_type": "code",
   "execution_count": 7,
   "id": "331ba4cb",
   "metadata": {},
   "outputs": [],
   "source": [
    "def path(fileName):\n",
    "    '''\n",
    "    Returns the annealing path functions\n",
    "    \n",
    "    Parameters\n",
    "    ----------\n",
    "    fileName  : string\n",
    "                name of the file containing the functions\n",
    "    \n",
    "    Output\n",
    "    ------\n",
    "    A  : array\n",
    "         values of A(s)\n",
    "    B  : array\n",
    "         values of B(s)\n",
    "    '''\n",
    "    \n",
    "    vecA = np.zeros(1000)\n",
    "    vecB = np.zeros(1000)\n",
    "    s = np.zeros(1000)\n",
    "    i = 0\n",
    "    \n",
    "    with open(fileName) as file:\n",
    "        for line in file:\n",
    "            info =  line.split()\n",
    "            s[i] = float(info[0])\n",
    "            vecA[i] = np.pi*float(info[1])\n",
    "            vecB[i] = np.pi*float(info[2])\n",
    "            i +=1\n",
    "            \n",
    "    A = interpolate.interp1d(s, vecA, kind = \"quadratic\")\n",
    "    B = interpolate.interp1d(s, vecB, kind = \"quadratic\")\n",
    "    \n",
    "    return A, B"
   ]
  },
  {
   "cell_type": "code",
   "execution_count": 8,
   "id": "9a484c9e",
   "metadata": {},
   "outputs": [],
   "source": [
    "def CrankNicolson(H, psi, delta_t):\n",
    "    '''\n",
    "    Crank-Nicolson algorithm for the time evolution of the wavefunction\n",
    "\n",
    "    Input\n",
    "    -----\n",
    "    H        : array\n",
    "               Hamiltonian of the system\n",
    "    psi      : array\n",
    "               wave function at t\n",
    "    delta_t  : double\n",
    "               time increase\n",
    "    \n",
    "    Output\n",
    "    ------\n",
    "    psi  : array\n",
    "           wave function at t + delta_t\n",
    "    '''\n",
    "    dim = len(H)\n",
    "    \n",
    "    M = np.identity(dim, dtype=complex) - (0. + 1.j)*delta_t/2*H\n",
    "    Minv = np.linalg.inv(np.identity(dim, dtype=complex) + (0. + 1.j)*delta_t/2*H)\n",
    "    \n",
    "    psi = np.matmul(M, psi)\n",
    "    psi = np.matmul(Minv, psi)\n",
    "    \n",
    "    return psi"
   ]
  },
  {
   "cell_type": "code",
   "execution_count": 23,
   "id": "75efb3f0",
   "metadata": {},
   "outputs": [],
   "source": [
    "def evolutionABTargetPhysical(target_H, Hi, Hp, A, B, tf, delta_t, gs, chain):\n",
    "    '''\n",
    "    Calculates the evolution of the system and the overlap with target ground state \n",
    "    \n",
    "\n",
    "    Input\n",
    "    -----\n",
    "    target_H    : array\n",
    "                  target matrix\n",
    "    Hi          : array\n",
    "                  initial Hamiltonian\n",
    "    Hp          : array\n",
    "                  problem Hamiltonian\n",
    "    A           : interpolate function\n",
    "    B           : interpolate function\n",
    "    tf          : float\n",
    "                  maximum annealing time\n",
    "    delta_t     : double\n",
    "                  time increase\n",
    "    chain       : array\n",
    "                  indices of chained nodes\n",
    "    Output\n",
    "    ------\n",
    "    overlap  : list\n",
    "               overlap with target ground state\n",
    "    psi      : array\n",
    "               wave function after the evolution\n",
    "    '''\n",
    "    \n",
    "    overlap = []\n",
    "    t = 0\n",
    "    degeneracy = len(gs)\n",
    "    \n",
    "    vap, vep = np.linalg.eigh(target_H)\n",
    "    psi_target = []\n",
    "    for i in range(degeneracy):\n",
    "        psi_target.append(vep[:, i])\n",
    "\n",
    "    target_binary = []\n",
    "    for i in range(len(psi_target)):\n",
    "        target_binary.append(toBinary(4,psi_target[i]))\n",
    "    \n",
    "    for i in range(len(psi_target)):\n",
    "        target_binary[i] = np.insert(target_binary[i], chain, [target_binary[i][chain[0]], target_binary[i][chain[1]]])\n",
    "    \n",
    "    psi_target_physical = []\n",
    "    for i in range(len(target_binary)):\n",
    "        psi_target_physical.append(toTensor(6, tuple(target_binary[i])))\n",
    "    \n",
    "   \n",
    "    H = A(t/tf)*Hi + B(t/tf)*Hp\n",
    "    \n",
    "    vap, vep = np.linalg.eigh(H)\n",
    "    mod = 0\n",
    "    psi = vep[:,0]\n",
    "    \n",
    "    for i in range(degeneracy):\n",
    "        psi0 = psi_target_physical[i]\n",
    "        psi0 = np.conjugate(psi0)\n",
    "        prod = np.dot(psi,psi0)\n",
    "        mod += (np.real(prod)*np.real(prod) + np.imag(prod)*np.imag(prod))\n",
    "    \n",
    "    overlap.append(mod)\n",
    "        \n",
    "    while (t < tf):\n",
    "        \n",
    "        H = A(t/tf)*Hi + B(t/tf)*Hp\n",
    "            \n",
    "        psi = CrankNicolson(H, psi, delta_t)\n",
    "        t += delta_t\n",
    "            \n",
    "        mod = 0\n",
    "            \n",
    "        for j in range(degeneracy):\n",
    "            psi0 = psi_target_physical[j]\n",
    "            psi0 = np.conjugate(psi0)\n",
    "            prod = np.dot(psi,psi0)\n",
    "            mod += (np.real(prod)*np.real(prod) + np.imag(prod)*np.imag(prod))\n",
    "            \n",
    "        overlap.append(mod)\n",
    "    \n",
    "    return overlap, psi"
   ]
  },
  {
   "cell_type": "code",
   "execution_count": 10,
   "id": "2fbcd2d1",
   "metadata": {},
   "outputs": [],
   "source": [
    "def toBinary(n, state):\n",
    "    '''\n",
    "    Transforms a tensor product state into a binary state\n",
    "    \n",
    "    Parameters\n",
    "    ----------\n",
    "    n      : int\n",
    "             number of qubits\n",
    "    state  : array\n",
    "             tensor product state\n",
    "    \n",
    "    Output\n",
    "    ------\n",
    "    binary_state  : array\n",
    "                    binary state of n qubits\n",
    "    \n",
    "    '''\n",
    "    \n",
    "    dim = pow(2, n)\n",
    "    states = itertools.product([0,1], repeat = n)\n",
    "    states = list(states)\n",
    "    states_list= []\n",
    "\n",
    "    for i in range(dim):\n",
    "        states_list.append(states[i])\n",
    "        \n",
    "    index = np.where(state == 1)\n",
    "    index  = index[0][0]\n",
    "    \n",
    "    binary_state = states_list[-index-1]\n",
    "    \n",
    "    return binary_state"
   ]
  },
  {
   "cell_type": "code",
   "execution_count": 11,
   "id": "98c065c5",
   "metadata": {},
   "outputs": [],
   "source": [
    "def toTensor(n, state):\n",
    "    '''\n",
    "    Transforms a tensor product state into a binary state\n",
    "    \n",
    "    Parameters\n",
    "    ----------\n",
    "    n      : int\n",
    "             number of qubits\n",
    "    state  : array\n",
    "             binary state\n",
    "    \n",
    "    Output\n",
    "    ------\n",
    "    tensor_state  : array\n",
    "                    tensor state of n qubits\n",
    "    \n",
    "    '''\n",
    "    \n",
    "    dim = pow(2, n)\n",
    "    states = itertools.product([0,1], repeat = n)\n",
    "    states = list(states)\n",
    "    states_list= []\n",
    "\n",
    "    for i in range(dim):\n",
    "        states_list.append(states[i]) \n",
    "        \n",
    "    index = states_list.index(state)\n",
    "    \n",
    "    tensor_state = np.zeros(dim)\n",
    "    tensor_state[dim-1-index] = 1\n",
    "    \n",
    "    \n",
    "    return tensor_state"
   ]
  },
  {
   "cell_type": "code",
   "execution_count": 12,
   "id": "0b03ca1f",
   "metadata": {},
   "outputs": [],
   "source": [
    "def chainBreak(n, state, chains):\n",
    "    '''\n",
    "    Returns false if there is a chain break or true if not.\n",
    "    \n",
    "    Parameters\n",
    "    ----------\n",
    "    n       : int\n",
    "              number of qubits\n",
    "    state   : array\n",
    "              state to check \n",
    "    chains  : array\n",
    "              indices of chained qubits        \n",
    "    '''\n",
    "    \n",
    "    binary_state = toBinary(n, state)\n",
    "    aux = False\n",
    "\n",
    "    for i in range(len(chains)):\n",
    "        i1 = chains[i][0]\n",
    "        i2 = chains[i][1]\n",
    "        \n",
    "        if (binary_state[i1] != binary_state[i2]):\n",
    "            aux = True\n",
    "         \n",
    "       \n",
    "                \n",
    "    return aux\n",
    "    "
   ]
  },
  {
   "cell_type": "code",
   "execution_count": 13,
   "id": "2e66f0e1",
   "metadata": {},
   "outputs": [],
   "source": [
    "def physicalToLogical(n, state, chains):\n",
    "    '''\n",
    "    Returns the logical state of a given set of states\n",
    "    \n",
    "    Parameters\n",
    "    ----------\n",
    "    n       : int\n",
    "              number of qubits\n",
    "    state   : array\n",
    "              state to be transformed\n",
    "    chains  : array\n",
    "              indices of chained qubits\n",
    "              \n",
    "    Output\n",
    "    ------\n",
    "    logical_state  : array\n",
    "                     equivalent logical state\n",
    "    '''\n",
    "    \n",
    "    breaks = False\n",
    "    \n",
    "    binary_state = toBinary(n, state)\n",
    "\n",
    "    for i in range(len(chains)):\n",
    "        i1 = chains[i][0]\n",
    "        i2 = chains[i][1]\n",
    "        \n",
    "        if (binary_state[i1] != binary_state[i2]):\n",
    "            breaks = True\n",
    "            \n",
    "    if (breaks == False):\n",
    "        logical_state = toBinary(n, state)\n",
    "        logical_state = list(logical_state)\n",
    "            \n",
    "        for j in range(len(chains)):\n",
    "            i1 = chains[j][0]\n",
    "            logical_state.pop(i1)\n",
    "    else:\n",
    "        logical_state = None\n",
    "    \n",
    "    return logical_state "
   ]
  },
  {
   "cell_type": "code",
   "execution_count": 14,
   "id": "ec29e0d0",
   "metadata": {},
   "outputs": [],
   "source": [
    "def QMatrix(G, alpha, beta):\n",
    "    \n",
    "    n = nx.number_of_nodes(G)\n",
    "    \n",
    "    #Computing the Q matrix\n",
    "    Q = np.zeros((n,n))\n",
    "\n",
    "    for u, v  in G.edges:\n",
    "        node_u = min(u,v)\n",
    "        node_v = max(u,v)\n",
    "    \n",
    "        Q[node_u,node_u] += 1*beta\n",
    "        Q[node_v,node_v] += 1*beta\n",
    "        Q[node_u,node_v] += -2*beta\n",
    " \n",
    "    for i in G.nodes:\n",
    "        Q[i,i] += alpha*(1-n)\n",
    "\n",
    "    for i, j in combinations(G.nodes, 2):\n",
    "        node_i = min(i,j)\n",
    "        node_j = max(i,j)\n",
    "        Q[node_i,node_j] += 2*alpha\n",
    "    return Q"
   ]
  },
  {
   "cell_type": "markdown",
   "id": "28c54b1e",
   "metadata": {},
   "source": [
    "## Logical graph"
   ]
  },
  {
   "cell_type": "code",
   "execution_count": 15,
   "id": "0d8ae7e5",
   "metadata": {},
   "outputs": [
    {
     "data": {
      "image/png": "[encoded data removed]",
      "text/plain": [
       "<Figure size 640x480 with 1 Axes>"
      ]
     },
     "metadata": {},
     "output_type": "display_data"
    }
   ],
   "source": [
    "#Create the graph\n",
    "G = FileToNetwork(\"graph3.txt\")\n",
    "DrawNetwork(G, \"3.png\")\n",
    "n = nx.number_of_nodes(G)\n",
    "m = nx.number_of_edges(G)"
   ]
  },
  {
   "cell_type": "markdown",
   "id": "065567f3",
   "metadata": {},
   "source": [
    "## Physical graph"
   ]
  },
  {
   "cell_type": "code",
   "execution_count": 16,
   "id": "a6e145bf",
   "metadata": {},
   "outputs": [
    {
     "data": {
      "image/png": "[encoded data removed]",
      "text/plain": [
       "<Figure size 640x480 with 1 Axes>"
      ]
     },
     "metadata": {},
     "output_type": "display_data"
    },
    {
     "name": "stdout",
     "output_type": "stream",
     "text": [
      "6\n"
     ]
    }
   ],
   "source": [
    "#Embedding\n",
    "C = FileToNetwork(\"chimera.txt\")\n",
    "#embedding = mm.find_embedding(G, C)\n",
    "embedding = {0: [1777, 1783], 1: [1779], 2: [1780], 3: [1776, 1781]}\n",
    "num_physical_qubits = 0\n",
    "physical_nodes = []\n",
    "for vertex in embedding:\n",
    "    for node in embedding[vertex]:\n",
    "        physical_nodes.append(node)\n",
    "        num_physical_qubits += 1\n",
    "used_graph = C.subgraph(physical_nodes) \n",
    "DrawNetwork(used_graph, \"embedding.png\")\n",
    "print(num_physical_qubits)"
   ]
  },
  {
   "cell_type": "markdown",
   "id": "123e7ffb",
   "metadata": {},
   "source": [
    "## Evolution"
   ]
  },
  {
   "cell_type": "code",
   "execution_count": 67,
   "id": "ae822f1f",
   "metadata": {},
   "outputs": [],
   "source": [
    "#Parameters\n",
    "tf = 15\n",
    "RCS = 0\n",
    "delta_t = 0.001\n",
    "chains = [[0,1], [4,5]]\n",
    "nodes = [0,3]"
   ]
  },
  {
   "cell_type": "code",
   "execution_count": 68,
   "id": "2dda80bc",
   "metadata": {},
   "outputs": [],
   "source": [
    "#Functions\n",
    "A, B = path(\"DW_2000Q_6.txt\")"
   ]
  },
  {
   "cell_type": "code",
   "execution_count": 69,
   "id": "c53e6cb5",
   "metadata": {},
   "outputs": [
    {
     "name": "stdout",
     "output_type": "stream",
     "text": [
      "defaultdict(<class 'int'>, {(0, 0, 0, 0): [0, 0.0, 0], (0, 0, 0, 1): [0, -0.75, 0], (0, 0, 1, 0): [0, -0.75, 0], (0, 0, 1, 1): [0, -1.0, 0], (0, 1, 0, 0): [0, -0.75, 0], (0, 1, 0, 1): [0, -1.0, 0], (0, 1, 1, 0): [0, -1.0, 0], (0, 1, 1, 1): [0, -0.75, 0], (1, 0, 0, 0): [0, -0.75, 0], (1, 0, 0, 1): [0, -1.0, 0], (1, 0, 1, 0): [0, -1.0, 0], (1, 0, 1, 1): [0, -0.75, 0], (1, 1, 0, 0): [0, -1.0, 0], (1, 1, 0, 1): [0, -0.75, 0], (1, 1, 1, 0): [0, -0.75, 0], (1, 1, 1, 1): [0, 0.0, 0]})\n"
     ]
    }
   ],
   "source": [
    "#Logical states list {(state) : [chain_break, energy, num_occurrences]}\n",
    "logical = defaultdict(int)\n",
    "states = itertools.product([0,1], repeat = 4)\n",
    "states = list(states)\n",
    "Q = QMatrix(G, 1.25, 1)\n",
    "\n",
    "for i in range(len(states)):\n",
    "    logical[states[i]] = [0, np.matmul(states[i], np.matmul(Q, states[i])), 0]\n",
    "print(logical)"
   ]
  },
  {
   "cell_type": "code",
   "execution_count": 70,
   "id": "7f76f183",
   "metadata": {},
   "outputs": [
    {
     "name": "stdout",
     "output_type": "stream",
     "text": [
      "[3, 5, 6, 9, 10, 12]\n"
     ]
    }
   ],
   "source": [
    "logical_Hp1, logical_Hp2 = makeQUBOHamiltonian(\"graph3.txt\", 1.25, 1)\n",
    "physical_Hp1, physical_Hp2 = makePhysicalHamiltonian(G, C, embedding, 1.25, 1, RCS)\n",
    "physical_Hi = makeInitialHamiltonian(num_physical_qubits)\n",
    "gs = groundState(logical_Hp1)\n",
    "print(gs)"
   ]
  },
  {
   "cell_type": "code",
   "execution_count": null,
   "id": "2ad68994",
   "metadata": {},
   "outputs": [],
   "source": [
    "overlap, psi2 = evolutionABTargetPhysical(logical_Hp2, physical_Hi, physical_Hp2, A, B, tf, delta_t, gs, nodes) "
   ]
  },
  {
   "cell_type": "code",
   "execution_count": null,
   "id": "ed7444bb",
   "metadata": {},
   "outputs": [],
   "source": [
    "plt.xlim([0, 1])\n",
    "#plt.ylim([0, 1])\n",
    "plt.xlabel(\"Scaled time s=t/t_f\")\n",
    "plt.ylabel(\"Overlap with target ground state\")\n",
    "x = np.linspace(0, 1, len(overlap))\n",
    "plt.plot(x, overlap)"
   ]
  },
  {
   "cell_type": "code",
   "execution_count": 62,
   "id": "34154ec5",
   "metadata": {},
   "outputs": [],
   "source": [
    "#Evolution\n",
    "t = 0\n",
    "H = A(t/tf)*physical_Hi + B(t/tf)*physical_Hp2\n",
    "vap, vep = np.linalg.eigh(H)\n",
    "psi = vep[:,0]\n",
    "\n",
    "    \n",
    "while (t < tf):\n",
    "        \n",
    "    H = A(t/tf)*physical_Hi + B(t/tf)*physical_Hp2\n",
    "            \n",
    "    psi = CrankNicolson(H, psi, delta_t)\n",
    "    t += delta_t"
   ]
  },
  {
   "cell_type": "code",
   "execution_count": 63,
   "id": "1fb1b174",
   "metadata": {},
   "outputs": [],
   "source": [
    "degeneracy = len(gs)\n",
    "vap, vep = np.linalg.eigh(logical_Hp2)\n",
    "psi_target = []\n",
    "for i in range(degeneracy):\n",
    "    psi_target.append(vep[:, i])\n",
    "\n",
    "target_binary = []\n",
    "for i in range(len(psi_target)):\n",
    "    target_binary.append(toBinary(4,psi_target[i]))\n",
    "    \n",
    "for i in range(len(psi_target)):\n",
    "    target_binary[i] = np.insert(target_binary[i], nodes, [target_binary[i][nodes[0]], target_binary[i][nodes[1]]])\n",
    "    \n",
    "psi_target_physical = []\n",
    "for i in range(len(target_binary)):\n",
    "    psi_target_physical.append(toTensor(6, tuple(target_binary[i])))"
   ]
  },
  {
   "cell_type": "code",
   "execution_count": 64,
   "id": "e3abaa54",
   "metadata": {},
   "outputs": [
    {
     "name": "stdout",
     "output_type": "stream",
     "text": [
      "[array([1, 1, 1, 0, 0, 0]), array([1, 1, 0, 1, 0, 0]), array([1, 1, 0, 0, 1, 1]), array([0, 0, 1, 1, 0, 0]), array([0, 0, 1, 0, 1, 1]), array([0, 0, 0, 1, 1, 1])]\n"
     ]
    }
   ],
   "source": [
    "print(target_binary)"
   ]
  },
  {
   "cell_type": "code",
   "execution_count": 65,
   "id": "83bc9e94",
   "metadata": {},
   "outputs": [
    {
     "name": "stdout",
     "output_type": "stream",
     "text": [
      "0.18237930267712338\n",
      "0.18237930267711655\n",
      "0.13510787587143003\n",
      "0.1351078758714322\n",
      "0.18237930267712743\n",
      "0.18237930267712082\n"
     ]
    }
   ],
   "source": [
    "mod = 0\n",
    "for j in range(degeneracy):\n",
    "    psi0 = psi_target_physical[j]\n",
    "    psi0 = np.conjugate(psi0)\n",
    "    prod = np.dot(psi,psi0)\n",
    "    aux = (np.real(prod)*np.real(prod) + np.imag(prod)*np.imag(prod))\n",
    "    print(aux)\n",
    "    mod += aux"
   ]
  },
  {
   "cell_type": "code",
   "execution_count": 66,
   "id": "6983d240",
   "metadata": {},
   "outputs": [
    {
     "name": "stdout",
     "output_type": "stream",
     "text": [
      "0.9997329624513505\n"
     ]
    }
   ],
   "source": [
    "print(mod)"
   ]
  },
  {
   "cell_type": "code",
   "execution_count": 61,
   "id": "873a9869",
   "metadata": {},
   "outputs": [
    {
     "name": "stdout",
     "output_type": "stream",
     "text": [
      "[ 5.91690284e-04-8.14137602e-05j -1.53512148e-06+3.09753196e-06j\n",
      " -1.53512148e-06+3.09753196e-06j  3.59720863e-03-4.95572764e-03j\n",
      " -3.50041239e-03-3.85202082e-03j  8.19695769e-04+6.42279308e-05j\n",
      " -9.19909547e-05-1.70478370e-05j -1.75829282e-01-3.89182947e-01j\n",
      " -3.50041239e-03-3.85202082e-03j -9.19909547e-05-1.70478370e-05j\n",
      "  8.19695769e-04+6.42279308e-05j -1.75829282e-01-3.89182947e-01j\n",
      " -2.49816038e-01-2.69629047e-01j  4.12736943e-04-3.56533851e-04j\n",
      "  4.12736943e-04-3.56533851e-04j  3.59720863e-03-4.95572764e-03j\n",
      " -1.53512148e-06+3.09753196e-06j -5.71738883e-06-2.22566977e-05j\n",
      " -2.25189031e-06-1.72493563e-06j  4.12736943e-04-3.56533851e-04j\n",
      "  8.19695769e-04+6.42279308e-05j -1.63749959e-04+1.55298018e-04j\n",
      " -1.78421280e-05-7.15478930e-07j  8.19695769e-04+6.42279308e-05j\n",
      " -9.19909547e-05-1.70478370e-05j -7.56842415e-06+1.08175949e-05j\n",
      " -1.78421280e-05-7.15478925e-07j -9.19909547e-05-1.70478370e-05j\n",
      "  4.12736943e-04-3.56533851e-04j -5.71738883e-06-2.22566977e-05j\n",
      " -2.25189031e-06-1.72493563e-06j -1.53512147e-06+3.09753196e-06j\n",
      " -1.53512148e-06+3.09753196e-06j -2.25189031e-06-1.72493563e-06j\n",
      " -5.71738883e-06-2.22566977e-05j  4.12736943e-04-3.56533851e-04j\n",
      " -9.19909547e-05-1.70478370e-05j -1.78421280e-05-7.15478926e-07j\n",
      " -7.56842416e-06+1.08175949e-05j -9.19909547e-05-1.70478370e-05j\n",
      "  8.19695769e-04+6.42279308e-05j -1.78421280e-05-7.15478929e-07j\n",
      " -1.63749959e-04+1.55298018e-04j  8.19695769e-04+6.42279308e-05j\n",
      "  4.12736943e-04-3.56533851e-04j -2.25189031e-06-1.72493562e-06j\n",
      " -5.71738883e-06-2.22566977e-05j -1.53512148e-06+3.09753196e-06j\n",
      "  3.59720863e-03-4.95572764e-03j  4.12736943e-04-3.56533851e-04j\n",
      "  4.12736943e-04-3.56533851e-04j -2.49816038e-01-2.69629047e-01j\n",
      " -1.75829282e-01-3.89182947e-01j  8.19695769e-04+6.42279308e-05j\n",
      " -9.19909547e-05-1.70478370e-05j -3.50041239e-03-3.85202082e-03j\n",
      " -1.75829282e-01-3.89182947e-01j -9.19909547e-05-1.70478370e-05j\n",
      "  8.19695769e-04+6.42279308e-05j -3.50041239e-03-3.85202082e-03j\n",
      "  3.59720863e-03-4.95572764e-03j -1.53512148e-06+3.09753196e-06j\n",
      " -1.53512148e-06+3.09753196e-06j  5.91690284e-04-8.14137602e-05j]\n"
     ]
    }
   ],
   "source": [
    "print(psi)"
   ]
  },
  {
   "cell_type": "code",
   "execution_count": 25,
   "id": "1f8eba1f",
   "metadata": {},
   "outputs": [],
   "source": [
    "vap, vep = np.linalg.eigh(H)"
   ]
  },
  {
   "cell_type": "code",
   "execution_count": 26,
   "id": "77f156df",
   "metadata": {},
   "outputs": [],
   "source": [
    "#Approximation of the eigenstates\n",
    "approx_vep = []\n",
    "for i in range(len(vap)):\n",
    "    vect = vep[:, i]\n",
    "    for j in range(len(vect)):\n",
    "        if (np.abs(vect[j]) < 0.7):\n",
    "            vect[j] = 0\n",
    "        else:\n",
    "            vect[j] = 1\n",
    "    index = np.where(vect == 1)\n",
    "    if (len(index[0]) == 1):\n",
    "        approx_vep.append(vect)"
   ]
  },
  {
   "cell_type": "code",
   "execution_count": 27,
   "id": "3bdb52b2",
   "metadata": {},
   "outputs": [
    {
     "name": "stdout",
     "output_type": "stream",
     "text": [
      "28\n"
     ]
    }
   ],
   "source": [
    "print(len(approx_vep))"
   ]
  },
  {
   "cell_type": "code",
   "execution_count": 28,
   "id": "e0ba2ae2",
   "metadata": {},
   "outputs": [
    {
     "name": "stdout",
     "output_type": "stream",
     "text": [
      "[False, False, False, False, False, False, False, False, True, True, True, True, True, False, False, True, True, True, True, True, True, True, True, True, True, True, True, True]\n"
     ]
    }
   ],
   "source": [
    "#Check if chains break\n",
    "breaks = []\n",
    "for i in range(len(approx_vep)):\n",
    "    aux = toBinary(num_physical_qubits, approx_vep[i])\n",
    "    breaks.append(chainBreak(num_physical_qubits, approx_vep[i], chains))\n",
    "print(breaks)"
   ]
  },
  {
   "cell_type": "code",
   "execution_count": 29,
   "id": "c603eec4",
   "metadata": {},
   "outputs": [],
   "source": [
    "#No chain breaks\n",
    "for i in range(len(breaks)):\n",
    "    if (breaks[i] == False):\n",
    "        aux = physicalToLogical(num_physical_qubits, approx_vep[i], chains)\n",
    "    \n",
    "        aux = tuple(aux)\n",
    "        logical[aux][2] += 1"
   ]
  },
  {
   "cell_type": "code",
   "execution_count": 30,
   "id": "39019060",
   "metadata": {},
   "outputs": [],
   "source": [
    "#Chain breaks\n",
    "for i in range(len(breaks)):\n",
    "    if (breaks[i] == True):\n",
    "        aux = list(toBinary(num_physical_qubits, approx_vep[i]))\n",
    "  \n",
    "        fix = 0\n",
    "        for j in range(len(chains)):\n",
    "            i1 = chains[j][0] - fix\n",
    "            aux.pop(i1)\n",
    "            fix += 1\n",
    "            \n",
    "        aux = tuple(aux)\n",
    "        logical[aux][0] += 1\n",
    "        logical[aux][2] += 1"
   ]
  },
  {
   "cell_type": "code",
   "execution_count": 31,
   "id": "92eb3c0a",
   "metadata": {},
   "outputs": [
    {
     "name": "stdout",
     "output_type": "stream",
     "text": [
      "defaultdict(<class 'int'>, {(0, 0, 0, 0): [1, 0.0, 2], (0, 0, 0, 1): [1, -0.75, 1], (0, 0, 1, 0): [1, -0.75, 2], (0, 0, 1, 1): [0, -1.0, 1], (0, 1, 0, 0): [2, -0.75, 3], (0, 1, 0, 1): [3, -1.0, 4], (0, 1, 1, 0): [0, -1.0, 1], (0, 1, 1, 1): [1, -0.75, 1], (1, 0, 0, 0): [2, -0.75, 2], (1, 0, 0, 1): [1, -1.0, 2], (1, 0, 1, 0): [0, -1.0, 1], (1, 0, 1, 1): [1, -0.75, 1], (1, 1, 0, 0): [1, -1.0, 2], (1, 1, 0, 1): [2, -0.75, 2], (1, 1, 1, 0): [0, -0.75, 0], (1, 1, 1, 1): [2, 0.0, 3]})\n"
     ]
    }
   ],
   "source": [
    "print(logical)"
   ]
  },
  {
   "cell_type": "code",
   "execution_count": 32,
   "id": "dac8b6f2",
   "metadata": {},
   "outputs": [
    {
     "name": "stdout",
     "output_type": "stream",
     "text": [
      "state\t\tchain_break_fraction\tenergy\tnum_occurrences\n",
      "(0, 0, 0, 0)\t\t0.5\t\t 0.0\t\t2\n",
      "(0, 0, 0, 1)\t\t1.0\t\t -0.75\t\t1\n",
      "(0, 0, 1, 0)\t\t0.5\t\t -0.75\t\t2\n",
      "(0, 0, 1, 1)\t\t0.0\t\t -1.0\t\t1\n",
      "(0, 1, 0, 0)\t\t0.67\t\t -0.75\t\t3\n",
      "(0, 1, 0, 1)\t\t0.75\t\t -1.0\t\t4\n",
      "(0, 1, 1, 0)\t\t0.0\t\t -1.0\t\t1\n",
      "(0, 1, 1, 1)\t\t1.0\t\t -0.75\t\t1\n",
      "(1, 0, 0, 0)\t\t1.0\t\t -0.75\t\t2\n",
      "(1, 0, 0, 1)\t\t0.5\t\t -1.0\t\t2\n",
      "(1, 0, 1, 0)\t\t0.0\t\t -1.0\t\t1\n",
      "(1, 0, 1, 1)\t\t1.0\t\t -0.75\t\t1\n",
      "(1, 1, 0, 0)\t\t0.5\t\t -1.0\t\t2\n",
      "(1, 1, 0, 1)\t\t1.0\t\t -0.75\t\t2\n",
      "(1, 1, 1, 0)\t\t0.0\t\t -0.75\t\t0\n",
      "(1, 1, 1, 1)\t\t0.67\t\t 0.0\t\t3\n"
     ]
    }
   ],
   "source": [
    "print(\"state\"+ \"\\t\\t\" + \"chain_break_fraction\" + \"\\t\" + \"energy\" + \"\\t\" + \"num_occurrences\")\n",
    "for item in logical:\n",
    "    if (logical[item][2] != 0):\n",
    "        fraction = round(logical[item][0]/logical[item][2], 2)\n",
    "    else:\n",
    "        fraction = 0.0\n",
    "    energy = logical[item][1]\n",
    "    number = logical[item][2]\n",
    "    print(str(item) + \"\\t\\t\" + str(fraction) + \"\\t\\t \" + str(energy) + \"\\t\\t\" + str(number))"
   ]
  },
  {
   "cell_type": "code",
   "execution_count": null,
   "id": "88417884",
   "metadata": {},
   "outputs": [],
   "source": []
  },
  {
   "cell_type": "code",
   "execution_count": null,
   "id": "aa3015df",
   "metadata": {},
   "outputs": [],
   "source": []
  }
 ],
 "metadata": {
  "kernelspec": {
   "display_name": "Python 3 (ipykernel)",
   "language": "python",
   "name": "python3"
  },
  "language_info": {
   "codemirror_mode": {
    "name": "ipython",
    "version": 3
   },
   "file_extension": ".py",
   "mimetype": "text/x-python",
   "name": "python",
   "nbconvert_exporter": "python",
   "pygments_lexer": "ipython3",
   "version": "3.8.13"
  }
 },
 "nbformat": 4,
 "nbformat_minor": 5
}
